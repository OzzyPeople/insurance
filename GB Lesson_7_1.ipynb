{
 "cells": [
  {
   "cell_type": "markdown",
   "metadata": {
    "colab_type": "text",
    "id": "HrxZEq_-FHNq"
   },
   "source": [
    "## Предобработка данных"
   ]
  },
  {
   "cell_type": "code",
   "execution_count": 3,
   "metadata": {
    "colab": {},
    "colab_type": "code",
    "id": "Fj2E6mVkFR10"
   },
   "outputs": [],
   "source": [
    "import numpy as np\n",
    "import pandas as pd"
   ]
  },
  {
   "cell_type": "code",
   "execution_count": 4,
   "metadata": {},
   "outputs": [],
   "source": [
    "import matplotlib\n",
    "\n",
    "import matplotlib.pyplot as plt\n",
    "import seaborn as sns\n",
    "%matplotlib inline"
   ]
  },
  {
   "cell_type": "code",
   "execution_count": 5,
   "metadata": {},
   "outputs": [],
   "source": [
    "matplotlib.rcParams['figure.figsize'] =  [15.0, 8.0]\n"
   ]
  },
  {
   "cell_type": "markdown",
   "metadata": {},
   "source": [
    "Цель - смоделировать частоту убытка и его среднюю величину"
   ]
  },
  {
   "cell_type": "code",
   "execution_count": 6,
   "metadata": {
    "colab": {
     "base_uri": "https://localhost:8080/",
     "height": 476
    },
    "colab_type": "code",
    "id": "_Vs8YR9eFgvy",
    "outputId": "3dc9515d-b909-48d0-a5d5-bee1e82e3f1e"
   },
   "outputs": [
    {
     "name": "stdout",
     "output_type": "stream",
     "text": [
      "<class 'pandas.core.frame.DataFrame'>\n",
      "RangeIndex: 115155 entries, 0 to 115154\n",
      "Data columns (total 20 columns):\n",
      "Exposure             115155 non-null float64\n",
      "LicAge               115155 non-null int64\n",
      "RecordBeg            115155 non-null object\n",
      "RecordEnd            59455 non-null object\n",
      "Gender               115155 non-null object\n",
      "MariStat             115155 non-null object\n",
      "SocioCateg           115155 non-null object\n",
      "VehUsage             115155 non-null object\n",
      "DrivAge              115155 non-null int64\n",
      "HasKmLimit           115155 non-null int64\n",
      "BonusMalus           115155 non-null int64\n",
      "ClaimAmount          115155 non-null float64\n",
      "ClaimInd             115155 non-null int64\n",
      "ClaimNbResp          115155 non-null float64\n",
      "ClaimNbNonResp       115155 non-null float64\n",
      "ClaimNbParking       115155 non-null float64\n",
      "ClaimNbFireTheft     115155 non-null float64\n",
      "ClaimNbWindscreen    115155 non-null float64\n",
      "OutUseNb             115155 non-null float64\n",
      "RiskArea             115155 non-null float64\n",
      "dtypes: float64(9), int64(5), object(6)\n",
      "memory usage: 17.6+ MB\n"
     ]
    }
   ],
   "source": [
    "# Загрузим набор данных\n",
    "path = 'C:/Users/user/Documents/mydocs/gb_timeseries/insurance/data/'\n",
    "df = pd.read_csv(path+'freMPL-R.csv', low_memory=False)\n",
    "df = df.loc[df.Dataset.isin([5, 6, 7, 8, 9])]\n",
    "df.drop('Dataset', axis=1, inplace=True)\n",
    "df.dropna(axis=1, how='all', inplace=True)\n",
    "df.drop_duplicates(inplace=True)\n",
    "df.reset_index(drop=True, inplace=True)\n",
    "df.info()"
   ]
  },
  {
   "cell_type": "code",
   "execution_count": 7,
   "metadata": {},
   "outputs": [
    {
     "data": {
      "text/html": [
       "<div>\n",
       "<style scoped>\n",
       "    .dataframe tbody tr th:only-of-type {\n",
       "        vertical-align: middle;\n",
       "    }\n",
       "\n",
       "    .dataframe tbody tr th {\n",
       "        vertical-align: top;\n",
       "    }\n",
       "\n",
       "    .dataframe thead th {\n",
       "        text-align: right;\n",
       "    }\n",
       "</style>\n",
       "<table border=\"1\" class=\"dataframe\">\n",
       "  <thead>\n",
       "    <tr style=\"text-align: right;\">\n",
       "      <th></th>\n",
       "      <th>Exposure</th>\n",
       "      <th>LicAge</th>\n",
       "      <th>RecordBeg</th>\n",
       "      <th>RecordEnd</th>\n",
       "      <th>Gender</th>\n",
       "      <th>MariStat</th>\n",
       "      <th>SocioCateg</th>\n",
       "      <th>VehUsage</th>\n",
       "      <th>DrivAge</th>\n",
       "      <th>HasKmLimit</th>\n",
       "      <th>BonusMalus</th>\n",
       "      <th>ClaimAmount</th>\n",
       "      <th>ClaimInd</th>\n",
       "      <th>ClaimNbResp</th>\n",
       "      <th>ClaimNbNonResp</th>\n",
       "      <th>ClaimNbParking</th>\n",
       "      <th>ClaimNbFireTheft</th>\n",
       "      <th>ClaimNbWindscreen</th>\n",
       "      <th>OutUseNb</th>\n",
       "      <th>RiskArea</th>\n",
       "    </tr>\n",
       "  </thead>\n",
       "  <tbody>\n",
       "    <tr>\n",
       "      <th>0</th>\n",
       "      <td>0.083</td>\n",
       "      <td>332</td>\n",
       "      <td>2004-01-01</td>\n",
       "      <td>2004-02-01</td>\n",
       "      <td>Male</td>\n",
       "      <td>Other</td>\n",
       "      <td>CSP50</td>\n",
       "      <td>Professional</td>\n",
       "      <td>46</td>\n",
       "      <td>0</td>\n",
       "      <td>50</td>\n",
       "      <td>0.0</td>\n",
       "      <td>0</td>\n",
       "      <td>0.0</td>\n",
       "      <td>1.0</td>\n",
       "      <td>0.0</td>\n",
       "      <td>0.0</td>\n",
       "      <td>0.0</td>\n",
       "      <td>0.0</td>\n",
       "      <td>9.0</td>\n",
       "    </tr>\n",
       "    <tr>\n",
       "      <th>1</th>\n",
       "      <td>0.916</td>\n",
       "      <td>333</td>\n",
       "      <td>2004-02-01</td>\n",
       "      <td>NaN</td>\n",
       "      <td>Male</td>\n",
       "      <td>Other</td>\n",
       "      <td>CSP50</td>\n",
       "      <td>Professional</td>\n",
       "      <td>46</td>\n",
       "      <td>0</td>\n",
       "      <td>50</td>\n",
       "      <td>0.0</td>\n",
       "      <td>0</td>\n",
       "      <td>0.0</td>\n",
       "      <td>1.0</td>\n",
       "      <td>0.0</td>\n",
       "      <td>0.0</td>\n",
       "      <td>0.0</td>\n",
       "      <td>0.0</td>\n",
       "      <td>9.0</td>\n",
       "    </tr>\n",
       "    <tr>\n",
       "      <th>2</th>\n",
       "      <td>0.550</td>\n",
       "      <td>173</td>\n",
       "      <td>2004-05-15</td>\n",
       "      <td>2004-12-03</td>\n",
       "      <td>Male</td>\n",
       "      <td>Other</td>\n",
       "      <td>CSP50</td>\n",
       "      <td>Private+trip to office</td>\n",
       "      <td>32</td>\n",
       "      <td>0</td>\n",
       "      <td>68</td>\n",
       "      <td>0.0</td>\n",
       "      <td>0</td>\n",
       "      <td>0.0</td>\n",
       "      <td>2.0</td>\n",
       "      <td>0.0</td>\n",
       "      <td>0.0</td>\n",
       "      <td>0.0</td>\n",
       "      <td>0.0</td>\n",
       "      <td>7.0</td>\n",
       "    </tr>\n",
       "    <tr>\n",
       "      <th>3</th>\n",
       "      <td>0.089</td>\n",
       "      <td>364</td>\n",
       "      <td>2004-11-29</td>\n",
       "      <td>NaN</td>\n",
       "      <td>Female</td>\n",
       "      <td>Other</td>\n",
       "      <td>CSP55</td>\n",
       "      <td>Private+trip to office</td>\n",
       "      <td>52</td>\n",
       "      <td>0</td>\n",
       "      <td>50</td>\n",
       "      <td>0.0</td>\n",
       "      <td>0</td>\n",
       "      <td>0.0</td>\n",
       "      <td>0.0</td>\n",
       "      <td>0.0</td>\n",
       "      <td>0.0</td>\n",
       "      <td>0.0</td>\n",
       "      <td>0.0</td>\n",
       "      <td>8.0</td>\n",
       "    </tr>\n",
       "    <tr>\n",
       "      <th>4</th>\n",
       "      <td>0.233</td>\n",
       "      <td>426</td>\n",
       "      <td>2004-02-07</td>\n",
       "      <td>2004-05-01</td>\n",
       "      <td>Male</td>\n",
       "      <td>Other</td>\n",
       "      <td>CSP60</td>\n",
       "      <td>Private</td>\n",
       "      <td>57</td>\n",
       "      <td>0</td>\n",
       "      <td>50</td>\n",
       "      <td>0.0</td>\n",
       "      <td>0</td>\n",
       "      <td>0.0</td>\n",
       "      <td>0.0</td>\n",
       "      <td>0.0</td>\n",
       "      <td>0.0</td>\n",
       "      <td>0.0</td>\n",
       "      <td>0.0</td>\n",
       "      <td>7.0</td>\n",
       "    </tr>\n",
       "  </tbody>\n",
       "</table>\n",
       "</div>"
      ],
      "text/plain": [
       "   Exposure  LicAge   RecordBeg   RecordEnd  Gender MariStat SocioCateg  \\\n",
       "0     0.083     332  2004-01-01  2004-02-01    Male    Other      CSP50   \n",
       "1     0.916     333  2004-02-01         NaN    Male    Other      CSP50   \n",
       "2     0.550     173  2004-05-15  2004-12-03    Male    Other      CSP50   \n",
       "3     0.089     364  2004-11-29         NaN  Female    Other      CSP55   \n",
       "4     0.233     426  2004-02-07  2004-05-01    Male    Other      CSP60   \n",
       "\n",
       "                 VehUsage  DrivAge  HasKmLimit  BonusMalus  ClaimAmount  \\\n",
       "0            Professional       46           0          50          0.0   \n",
       "1            Professional       46           0          50          0.0   \n",
       "2  Private+trip to office       32           0          68          0.0   \n",
       "3  Private+trip to office       52           0          50          0.0   \n",
       "4                 Private       57           0          50          0.0   \n",
       "\n",
       "   ClaimInd  ClaimNbResp  ClaimNbNonResp  ClaimNbParking  ClaimNbFireTheft  \\\n",
       "0         0          0.0             1.0             0.0               0.0   \n",
       "1         0          0.0             1.0             0.0               0.0   \n",
       "2         0          0.0             2.0             0.0               0.0   \n",
       "3         0          0.0             0.0             0.0               0.0   \n",
       "4         0          0.0             0.0             0.0               0.0   \n",
       "\n",
       "   ClaimNbWindscreen  OutUseNb  RiskArea  \n",
       "0                0.0       0.0       9.0  \n",
       "1                0.0       0.0       9.0  \n",
       "2                0.0       0.0       7.0  \n",
       "3                0.0       0.0       8.0  \n",
       "4                0.0       0.0       7.0  "
      ]
     },
     "execution_count": 7,
     "metadata": {},
     "output_type": "execute_result"
    }
   ],
   "source": [
    "df.head()"
   ]
  },
  {
   "cell_type": "markdown",
   "metadata": {},
   "source": [
    "Exposure - доля года,  за который полис действовал \n",
    "DrivAge - возраст\n",
    "SocioCateg - социальная категория \n",
    "Gender - пол \n",
    "MariStat - семейный статус \n",
    "VehUsage - тип использования транспортного средства \n",
    "ClaimInd  - случилось страховое событие или нет\n",
    "ClaimAmount - величина убытка \n",
    "Виды ущербов -  (\"ClaimNbResp\", \"ClaimNbNonResp\", \"ClaimNbParking\", \"ClaimNbFireTheft\", \"ClaimNbWindscreen\")"
   ]
  },
  {
   "cell_type": "markdown",
   "metadata": {},
   "source": [
    "## первые наблюдения"
   ]
  },
  {
   "cell_type": "markdown",
   "metadata": {},
   "source": [
    "1 ) Есть строковые переменные, которые мы не можем использовать - object\n",
    "\n",
    "2 ) В предыдущем уроке мы заметили отрицательную величину убытка для некоторых наблюдений. Заметим, что для всех таких полисов переменная \"ClaimInd\" принимает только значение 0. Поэтому заменим все соответствующие значения \"ClaimAmount\" нулями."
   ]
  },
  {
   "cell_type": "code",
   "execution_count": 8,
   "metadata": {
    "colab": {
     "base_uri": "https://localhost:8080/",
     "height": 221
    },
    "colab_type": "code",
    "id": "AklwJWsoWnAV",
    "outputId": "1d28ed4c-6505-48c4-cee6-8ce57670625b"
   },
   "outputs": [
    {
     "name": "stdout",
     "output_type": "stream",
     "text": [
      "Unique values of ClaimInd: [0]\n"
     ]
    },
    {
     "data": {
      "text/html": [
       "<div>\n",
       "<style scoped>\n",
       "    .dataframe tbody tr th:only-of-type {\n",
       "        vertical-align: middle;\n",
       "    }\n",
       "\n",
       "    .dataframe tbody tr th {\n",
       "        vertical-align: top;\n",
       "    }\n",
       "\n",
       "    .dataframe thead th {\n",
       "        text-align: right;\n",
       "    }\n",
       "</style>\n",
       "<table border=\"1\" class=\"dataframe\">\n",
       "  <thead>\n",
       "    <tr style=\"text-align: right;\">\n",
       "      <th></th>\n",
       "      <th>ClaimAmount</th>\n",
       "      <th>ClaimInd</th>\n",
       "    </tr>\n",
       "  </thead>\n",
       "  <tbody>\n",
       "    <tr>\n",
       "      <th>82</th>\n",
       "      <td>-74.206042</td>\n",
       "      <td>0</td>\n",
       "    </tr>\n",
       "    <tr>\n",
       "      <th>175</th>\n",
       "      <td>-1222.585196</td>\n",
       "      <td>0</td>\n",
       "    </tr>\n",
       "    <tr>\n",
       "      <th>177</th>\n",
       "      <td>-316.288822</td>\n",
       "      <td>0</td>\n",
       "    </tr>\n",
       "    <tr>\n",
       "      <th>363</th>\n",
       "      <td>-666.758610</td>\n",
       "      <td>0</td>\n",
       "    </tr>\n",
       "    <tr>\n",
       "      <th>375</th>\n",
       "      <td>-1201.600604</td>\n",
       "      <td>0</td>\n",
       "    </tr>\n",
       "  </tbody>\n",
       "</table>\n",
       "</div>"
      ],
      "text/plain": [
       "     ClaimAmount  ClaimInd\n",
       "82    -74.206042         0\n",
       "175 -1222.585196         0\n",
       "177  -316.288822         0\n",
       "363  -666.758610         0\n",
       "375 -1201.600604         0"
      ]
     },
     "execution_count": 8,
     "metadata": {},
     "output_type": "execute_result"
    }
   ],
   "source": [
    "NegClaimAmount = df.loc[df.ClaimAmount < 0, ['ClaimAmount','ClaimInd']]\n",
    "print('Unique values of ClaimInd:', NegClaimAmount.ClaimInd.unique())\n",
    "NegClaimAmount.head()"
   ]
  },
  {
   "cell_type": "code",
   "execution_count": 9,
   "metadata": {
    "colab": {},
    "colab_type": "code",
    "id": "R7laRWoCYF4V"
   },
   "outputs": [],
   "source": [
    "df.loc[df.ClaimAmount < 0, 'ClaimAmount'] = 0"
   ]
  },
  {
   "cell_type": "markdown",
   "metadata": {
    "colab_type": "text",
    "id": "6VuWyv7EGONj"
   },
   "source": [
    "## перекодируем бинарные  переменные типа `object` с помощью числовых значений"
   ]
  },
  {
   "cell_type": "code",
   "execution_count": 10,
   "metadata": {
    "colab": {},
    "colab_type": "code",
    "id": "yivIrqGaGbSa"
   },
   "outputs": [],
   "source": [
    "def SeriesFactorizer(series):\n",
    "    series, unique = pd.factorize(series)\n",
    "    reference = {x: i for x, i in enumerate(unique)}\n",
    "    print(reference)\n",
    "    return series, reference"
   ]
  },
  {
   "cell_type": "code",
   "execution_count": 11,
   "metadata": {
    "colab": {
     "base_uri": "https://localhost:8080/",
     "height": 34
    },
    "colab_type": "code",
    "id": "G3SgrIBXGe3J",
    "outputId": "7bf5de6b-d50b-420b-9800-f8065be9ce86"
   },
   "outputs": [
    {
     "name": "stdout",
     "output_type": "stream",
     "text": [
      "{0: 'Male', 1: 'Female'}\n"
     ]
    }
   ],
   "source": [
    "df.Gender, GenderRef = SeriesFactorizer(df.Gender)"
   ]
  },
  {
   "cell_type": "code",
   "execution_count": 12,
   "metadata": {
    "colab": {
     "base_uri": "https://localhost:8080/",
     "height": 34
    },
    "colab_type": "code",
    "id": "HD6_Ie-2GggO",
    "outputId": "23b317dd-80fa-464d-9afa-4996d28382db"
   },
   "outputs": [
    {
     "name": "stdout",
     "output_type": "stream",
     "text": [
      "{0: 'Other', 1: 'Alone'}\n"
     ]
    }
   ],
   "source": [
    "df.MariStat, MariStatRef = SeriesFactorizer(df.MariStat)"
   ]
  },
  {
   "cell_type": "code",
   "execution_count": null,
   "metadata": {},
   "outputs": [],
   "source": []
  },
  {
   "cell_type": "markdown",
   "metadata": {},
   "source": [
    "## перекодируем небинарные категориальные признаки с помощью числовых значений"
   ]
  },
  {
   "cell_type": "markdown",
   "metadata": {
    "colab_type": "text",
    "id": "ZdTe9JpiGvt9"
   },
   "source": [
    "Для переменных, содержащих более 2 значений, различия между которыми не могут упорядочены, используем фиктивные переменные (one-hot encoding).\n",
    "\n",
    "**NB**: В H2O не рекомендуется использовать one-hot encoding, поскольку данный фреймворк корректно работает с категориальными признаками, тогда как применение one-hot encoding приводит к неэффективности. Тем не менее, используем здесь фиктивные переменные, чтобы в дальнейшем сохранить возможность сравнения результатов построенных моделей."
   ]
  },
  {
   "cell_type": "code",
   "execution_count": 13,
   "metadata": {
    "colab": {
     "base_uri": "https://localhost:8080/",
     "height": 34
    },
    "colab_type": "code",
    "id": "VrN99Iv8Ht-G",
    "outputId": "8b11afeb-373e-44bb-fd87-adb5ba6afe01"
   },
   "outputs": [
    {
     "data": {
      "text/plain": [
       "['Professional', 'Private+trip to office', 'Private', 'Professional run']"
      ]
     },
     "execution_count": 13,
     "metadata": {},
     "output_type": "execute_result"
    }
   ],
   "source": [
    "list(df.VehUsage.unique())"
   ]
  },
  {
   "cell_type": "code",
   "execution_count": 14,
   "metadata": {
    "colab": {
     "base_uri": "https://localhost:8080/",
     "height": 204
    },
    "colab_type": "code",
    "id": "WXfZa7lUH0Jf",
    "outputId": "a4de6444-fbe2-4af2-cde7-68daf3fd4926"
   },
   "outputs": [
    {
     "data": {
      "text/html": [
       "<div>\n",
       "<style scoped>\n",
       "    .dataframe tbody tr th:only-of-type {\n",
       "        vertical-align: middle;\n",
       "    }\n",
       "\n",
       "    .dataframe tbody tr th {\n",
       "        vertical-align: top;\n",
       "    }\n",
       "\n",
       "    .dataframe thead th {\n",
       "        text-align: right;\n",
       "    }\n",
       "</style>\n",
       "<table border=\"1\" class=\"dataframe\">\n",
       "  <thead>\n",
       "    <tr style=\"text-align: right;\">\n",
       "      <th></th>\n",
       "      <th>VehUsg_Private</th>\n",
       "      <th>VehUsg_Private+trip to office</th>\n",
       "      <th>VehUsg_Professional</th>\n",
       "      <th>VehUsg_Professional run</th>\n",
       "    </tr>\n",
       "  </thead>\n",
       "  <tbody>\n",
       "    <tr>\n",
       "      <th>0</th>\n",
       "      <td>0</td>\n",
       "      <td>0</td>\n",
       "      <td>1</td>\n",
       "      <td>0</td>\n",
       "    </tr>\n",
       "    <tr>\n",
       "      <th>1</th>\n",
       "      <td>0</td>\n",
       "      <td>0</td>\n",
       "      <td>1</td>\n",
       "      <td>0</td>\n",
       "    </tr>\n",
       "    <tr>\n",
       "      <th>2</th>\n",
       "      <td>0</td>\n",
       "      <td>1</td>\n",
       "      <td>0</td>\n",
       "      <td>0</td>\n",
       "    </tr>\n",
       "    <tr>\n",
       "      <th>3</th>\n",
       "      <td>0</td>\n",
       "      <td>1</td>\n",
       "      <td>0</td>\n",
       "      <td>0</td>\n",
       "    </tr>\n",
       "    <tr>\n",
       "      <th>4</th>\n",
       "      <td>1</td>\n",
       "      <td>0</td>\n",
       "      <td>0</td>\n",
       "      <td>0</td>\n",
       "    </tr>\n",
       "  </tbody>\n",
       "</table>\n",
       "</div>"
      ],
      "text/plain": [
       "   VehUsg_Private  VehUsg_Private+trip to office  VehUsg_Professional  \\\n",
       "0               0                              0                    1   \n",
       "1               0                              0                    1   \n",
       "2               0                              1                    0   \n",
       "3               0                              1                    0   \n",
       "4               1                              0                    0   \n",
       "\n",
       "   VehUsg_Professional run  \n",
       "0                        0  \n",
       "1                        0  \n",
       "2                        0  \n",
       "3                        0  \n",
       "4                        0  "
      ]
     },
     "execution_count": 14,
     "metadata": {},
     "output_type": "execute_result"
    }
   ],
   "source": [
    "VU_dummies = pd.get_dummies(df.VehUsage, prefix='VehUsg', drop_first=False)\n",
    "VU_dummies.head()"
   ]
  },
  {
   "cell_type": "markdown",
   "metadata": {
    "colab_type": "text",
    "id": "vSlx8FxWH9P2"
   },
   "source": [
    "Фактор \"SocioCateg\" содержит информацию о социальной категории в виде кодов классификации CSP. Агрегируем имеющиеся коды до 1 знака, а затем закодируем их с помощью one-hot encoding.\n",
    "\n",
    "[Wiki](https://fr.wikipedia.org/wiki/Professions_et_cat%C3%A9gories_socioprofessionnelles_en_France#Cr%C3%A9ation_de_la_nomenclature_des_PCS)\n",
    "\n",
    "[Более подробный классификатор](https://www.ast74.fr/upload/administratif/liste-des-codes-csp-copie.pdf)"
   ]
  },
  {
   "cell_type": "code",
   "execution_count": 15,
   "metadata": {
    "colab": {
     "base_uri": "https://localhost:8080/",
     "height": 136
    },
    "colab_type": "code",
    "id": "o-JmQOrFLjt1",
    "outputId": "45959d90-a765-475c-9c45-88fdd0b91351"
   },
   "outputs": [
    {
     "data": {
      "text/plain": [
       "array(['CSP50', 'CSP55', 'CSP60', 'CSP48', 'CSP6', 'CSP66', 'CSP1',\n",
       "       'CSP46', 'CSP21', 'CSP47', 'CSP42', 'CSP37', 'CSP22', 'CSP3',\n",
       "       'CSP49', 'CSP20', 'CSP2', 'CSP40', 'CSP7', 'CSP26', 'CSP65',\n",
       "       'CSP41', 'CSP17', 'CSP57', 'CSP56', 'CSP38', 'CSP51', 'CSP59',\n",
       "       'CSP30', 'CSP44', 'CSP61', 'CSP63', 'CSP45', 'CSP16', 'CSP43',\n",
       "       'CSP39', 'CSP5', 'CSP32', 'CSP35', 'CSP73', 'CSP62', 'CSP52',\n",
       "       'CSP27', 'CSP24', 'CSP19', 'CSP70'], dtype=object)"
      ]
     },
     "execution_count": 15,
     "metadata": {},
     "output_type": "execute_result"
    }
   ],
   "source": [
    "df['SocioCateg'].unique()"
   ]
  },
  {
   "cell_type": "code",
   "execution_count": 16,
   "metadata": {},
   "outputs": [],
   "source": [
    "#выделим только первые 4 знака, чтобы сократить количество социальных категорий"
   ]
  },
  {
   "cell_type": "code",
   "execution_count": 17,
   "metadata": {
    "colab": {},
    "colab_type": "code",
    "id": "6knnpiia1a-D"
   },
   "outputs": [],
   "source": [
    "df['SocioCateg'] = df.SocioCateg.str.slice(0,4)"
   ]
  },
  {
   "cell_type": "code",
   "execution_count": 18,
   "metadata": {
    "colab": {
     "base_uri": "https://localhost:8080/",
     "height": 266
    },
    "colab_type": "code",
    "id": "Xa8XgQB306yD",
    "outputId": "dddd6cfd-9c3f-489f-ffc6-e16a2f3669f0"
   },
   "outputs": [
    {
     "data": {
      "text/html": [
       "<div>\n",
       "<style scoped>\n",
       "    .dataframe tbody tr th:only-of-type {\n",
       "        vertical-align: middle;\n",
       "    }\n",
       "\n",
       "    .dataframe tbody tr th {\n",
       "        vertical-align: top;\n",
       "    }\n",
       "\n",
       "    .dataframe thead th {\n",
       "        text-align: right;\n",
       "    }\n",
       "</style>\n",
       "<table border=\"1\" class=\"dataframe\">\n",
       "  <thead>\n",
       "    <tr style=\"text-align: right;\">\n",
       "      <th></th>\n",
       "      <th>Frequency</th>\n",
       "    </tr>\n",
       "  </thead>\n",
       "  <tbody>\n",
       "    <tr>\n",
       "      <th>CSP7</th>\n",
       "      <td>14</td>\n",
       "    </tr>\n",
       "    <tr>\n",
       "      <th>CSP3</th>\n",
       "      <td>1210</td>\n",
       "    </tr>\n",
       "    <tr>\n",
       "      <th>CSP1</th>\n",
       "      <td>2740</td>\n",
       "    </tr>\n",
       "    <tr>\n",
       "      <th>CSP2</th>\n",
       "      <td>3254</td>\n",
       "    </tr>\n",
       "    <tr>\n",
       "      <th>CSP4</th>\n",
       "      <td>7648</td>\n",
       "    </tr>\n",
       "    <tr>\n",
       "      <th>CSP6</th>\n",
       "      <td>24833</td>\n",
       "    </tr>\n",
       "    <tr>\n",
       "      <th>CSP5</th>\n",
       "      <td>75456</td>\n",
       "    </tr>\n",
       "  </tbody>\n",
       "</table>\n",
       "</div>"
      ],
      "text/plain": [
       "      Frequency\n",
       "CSP7         14\n",
       "CSP3       1210\n",
       "CSP1       2740\n",
       "CSP2       3254\n",
       "CSP4       7648\n",
       "CSP6      24833\n",
       "CSP5      75456"
      ]
     },
     "execution_count": 18,
     "metadata": {},
     "output_type": "execute_result"
    }
   ],
   "source": [
    "pd.DataFrame(df.SocioCateg.value_counts().sort_values()).rename({'SocioCateg': 'Frequency'}, axis=1)"
   ]
  },
  {
   "cell_type": "code",
   "execution_count": 19,
   "metadata": {
    "colab": {},
    "colab_type": "code",
    "id": "zPfpFjNiKHtj"
   },
   "outputs": [],
   "source": [
    "df = pd.get_dummies(df, columns=['VehUsage','SocioCateg'])"
   ]
  },
  {
   "cell_type": "markdown",
   "metadata": {
    "colab_type": "text",
    "id": "xuMe7c-wKT3H"
   },
   "source": [
    "Теперь, когда большинство переменных типа `object` обработаны, исключим их из набора данных за ненадобностью."
   ]
  },
  {
   "cell_type": "code",
   "execution_count": 20,
   "metadata": {
    "colab": {},
    "colab_type": "code",
    "id": "HBbmRHUFKRql"
   },
   "outputs": [],
   "source": [
    "df = df.select_dtypes(exclude=['object'])"
   ]
  },
  {
   "cell_type": "code",
   "execution_count": 21,
   "metadata": {},
   "outputs": [],
   "source": [
    "## Feature engineering "
   ]
  },
  {
   "cell_type": "markdown",
   "metadata": {
    "colab_type": "text",
    "id": "SYrDMnrEAFwG"
   },
   "source": [
    "Также создадим такую переменную, как квадрат возраста.\n",
    "Почему - так как возраст влияет на частоту возникновения страховых случаем \n",
    "например высокая частота для молодых и с возрастом выше среднего "
   ]
  },
  {
   "cell_type": "code",
   "execution_count": 22,
   "metadata": {
    "colab": {
     "base_uri": "https://localhost:8080/",
     "height": 241
    },
    "colab_type": "code",
    "id": "Sduuts5fAAmK",
    "outputId": "8fc4145e-3fa2-484d-8c77-5e9f3e02c7fa"
   },
   "outputs": [
    {
     "data": {
      "text/html": [
       "<div>\n",
       "<style scoped>\n",
       "    .dataframe tbody tr th:only-of-type {\n",
       "        vertical-align: middle;\n",
       "    }\n",
       "\n",
       "    .dataframe tbody tr th {\n",
       "        vertical-align: top;\n",
       "    }\n",
       "\n",
       "    .dataframe thead th {\n",
       "        text-align: right;\n",
       "    }\n",
       "</style>\n",
       "<table border=\"1\" class=\"dataframe\">\n",
       "  <thead>\n",
       "    <tr style=\"text-align: right;\">\n",
       "      <th></th>\n",
       "      <th>Exposure</th>\n",
       "      <th>LicAge</th>\n",
       "      <th>Gender</th>\n",
       "      <th>MariStat</th>\n",
       "      <th>DrivAge</th>\n",
       "      <th>HasKmLimit</th>\n",
       "      <th>BonusMalus</th>\n",
       "      <th>ClaimAmount</th>\n",
       "      <th>ClaimInd</th>\n",
       "      <th>ClaimNbResp</th>\n",
       "      <th>...</th>\n",
       "      <th>VehUsage_Professional</th>\n",
       "      <th>VehUsage_Professional run</th>\n",
       "      <th>SocioCateg_CSP1</th>\n",
       "      <th>SocioCateg_CSP2</th>\n",
       "      <th>SocioCateg_CSP3</th>\n",
       "      <th>SocioCateg_CSP4</th>\n",
       "      <th>SocioCateg_CSP5</th>\n",
       "      <th>SocioCateg_CSP6</th>\n",
       "      <th>SocioCateg_CSP7</th>\n",
       "      <th>DrivAgeSq</th>\n",
       "    </tr>\n",
       "  </thead>\n",
       "  <tbody>\n",
       "    <tr>\n",
       "      <th>0</th>\n",
       "      <td>0.083</td>\n",
       "      <td>332</td>\n",
       "      <td>0</td>\n",
       "      <td>0</td>\n",
       "      <td>46</td>\n",
       "      <td>0</td>\n",
       "      <td>50</td>\n",
       "      <td>0.0</td>\n",
       "      <td>0</td>\n",
       "      <td>0.0</td>\n",
       "      <td>...</td>\n",
       "      <td>1</td>\n",
       "      <td>0</td>\n",
       "      <td>0</td>\n",
       "      <td>0</td>\n",
       "      <td>0</td>\n",
       "      <td>0</td>\n",
       "      <td>1</td>\n",
       "      <td>0</td>\n",
       "      <td>0</td>\n",
       "      <td>2116</td>\n",
       "    </tr>\n",
       "    <tr>\n",
       "      <th>1</th>\n",
       "      <td>0.916</td>\n",
       "      <td>333</td>\n",
       "      <td>0</td>\n",
       "      <td>0</td>\n",
       "      <td>46</td>\n",
       "      <td>0</td>\n",
       "      <td>50</td>\n",
       "      <td>0.0</td>\n",
       "      <td>0</td>\n",
       "      <td>0.0</td>\n",
       "      <td>...</td>\n",
       "      <td>1</td>\n",
       "      <td>0</td>\n",
       "      <td>0</td>\n",
       "      <td>0</td>\n",
       "      <td>0</td>\n",
       "      <td>0</td>\n",
       "      <td>1</td>\n",
       "      <td>0</td>\n",
       "      <td>0</td>\n",
       "      <td>2116</td>\n",
       "    </tr>\n",
       "    <tr>\n",
       "      <th>2</th>\n",
       "      <td>0.550</td>\n",
       "      <td>173</td>\n",
       "      <td>0</td>\n",
       "      <td>0</td>\n",
       "      <td>32</td>\n",
       "      <td>0</td>\n",
       "      <td>68</td>\n",
       "      <td>0.0</td>\n",
       "      <td>0</td>\n",
       "      <td>0.0</td>\n",
       "      <td>...</td>\n",
       "      <td>0</td>\n",
       "      <td>0</td>\n",
       "      <td>0</td>\n",
       "      <td>0</td>\n",
       "      <td>0</td>\n",
       "      <td>0</td>\n",
       "      <td>1</td>\n",
       "      <td>0</td>\n",
       "      <td>0</td>\n",
       "      <td>1024</td>\n",
       "    </tr>\n",
       "    <tr>\n",
       "      <th>3</th>\n",
       "      <td>0.089</td>\n",
       "      <td>364</td>\n",
       "      <td>1</td>\n",
       "      <td>0</td>\n",
       "      <td>52</td>\n",
       "      <td>0</td>\n",
       "      <td>50</td>\n",
       "      <td>0.0</td>\n",
       "      <td>0</td>\n",
       "      <td>0.0</td>\n",
       "      <td>...</td>\n",
       "      <td>0</td>\n",
       "      <td>0</td>\n",
       "      <td>0</td>\n",
       "      <td>0</td>\n",
       "      <td>0</td>\n",
       "      <td>0</td>\n",
       "      <td>1</td>\n",
       "      <td>0</td>\n",
       "      <td>0</td>\n",
       "      <td>2704</td>\n",
       "    </tr>\n",
       "    <tr>\n",
       "      <th>4</th>\n",
       "      <td>0.233</td>\n",
       "      <td>426</td>\n",
       "      <td>0</td>\n",
       "      <td>0</td>\n",
       "      <td>57</td>\n",
       "      <td>0</td>\n",
       "      <td>50</td>\n",
       "      <td>0.0</td>\n",
       "      <td>0</td>\n",
       "      <td>0.0</td>\n",
       "      <td>...</td>\n",
       "      <td>0</td>\n",
       "      <td>0</td>\n",
       "      <td>0</td>\n",
       "      <td>0</td>\n",
       "      <td>0</td>\n",
       "      <td>0</td>\n",
       "      <td>0</td>\n",
       "      <td>1</td>\n",
       "      <td>0</td>\n",
       "      <td>3249</td>\n",
       "    </tr>\n",
       "  </tbody>\n",
       "</table>\n",
       "<p>5 rows × 28 columns</p>\n",
       "</div>"
      ],
      "text/plain": [
       "   Exposure  LicAge  Gender  MariStat  DrivAge  HasKmLimit  BonusMalus  \\\n",
       "0     0.083     332       0         0       46           0          50   \n",
       "1     0.916     333       0         0       46           0          50   \n",
       "2     0.550     173       0         0       32           0          68   \n",
       "3     0.089     364       1         0       52           0          50   \n",
       "4     0.233     426       0         0       57           0          50   \n",
       "\n",
       "   ClaimAmount  ClaimInd  ClaimNbResp  ...  VehUsage_Professional  \\\n",
       "0          0.0         0          0.0  ...                      1   \n",
       "1          0.0         0          0.0  ...                      1   \n",
       "2          0.0         0          0.0  ...                      0   \n",
       "3          0.0         0          0.0  ...                      0   \n",
       "4          0.0         0          0.0  ...                      0   \n",
       "\n",
       "   VehUsage_Professional run  SocioCateg_CSP1  SocioCateg_CSP2  \\\n",
       "0                          0                0                0   \n",
       "1                          0                0                0   \n",
       "2                          0                0                0   \n",
       "3                          0                0                0   \n",
       "4                          0                0                0   \n",
       "\n",
       "   SocioCateg_CSP3  SocioCateg_CSP4  SocioCateg_CSP5  SocioCateg_CSP6  \\\n",
       "0                0                0                1                0   \n",
       "1                0                0                1                0   \n",
       "2                0                0                1                0   \n",
       "3                0                0                1                0   \n",
       "4                0                0                0                1   \n",
       "\n",
       "   SocioCateg_CSP7  DrivAgeSq  \n",
       "0                0       2116  \n",
       "1                0       2116  \n",
       "2                0       1024  \n",
       "3                0       2704  \n",
       "4                0       3249  \n",
       "\n",
       "[5 rows x 28 columns]"
      ]
     },
     "execution_count": 22,
     "metadata": {},
     "output_type": "execute_result"
    }
   ],
   "source": [
    "df['DrivAgeSq'] = df.DrivAge.apply(lambda x: x**2)\n",
    "df.head()"
   ]
  },
  {
   "cell_type": "markdown",
   "metadata": {},
   "source": [
    "## формируем индикатор убытков - целевую переменную"
   ]
  },
  {
   "cell_type": "markdown",
   "metadata": {
    "colab_type": "text",
    "id": "XE_3dSsW3J3X"
   },
   "source": [
    "Для моделирования частоты убытков сгенерируем показатель как сумму индикатора того, что убыток произошел (\"ClaimInd\") и количества заявленных убытков по различным видам ущерба за 4 предшествующих года (\"ClaimNbResp\", \"ClaimNbNonResp\", \"ClaimNbParking\", \"ClaimNbFireTheft\", \"ClaimNbWindscreen\").\n",
    "\n",
    "В случаях, если соответствующая величина убытка равняется нулю, сгенерированную частоту также обнулим."
   ]
  },
  {
   "cell_type": "code",
   "execution_count": 23,
   "metadata": {
    "colab": {},
    "colab_type": "code",
    "id": "R6rz5Oko3rbr"
   },
   "outputs": [],
   "source": [
    "df['ClaimsCount'] = df.ClaimInd + df.ClaimNbResp + df.ClaimNbNonResp + df.ClaimNbParking + df.ClaimNbFireTheft + df.ClaimNbWindscreen\n",
    "df.loc[df.ClaimAmount == 0, 'ClaimsCount'] = 0\n",
    "df.drop([\"ClaimNbResp\", \"ClaimNbNonResp\", \"ClaimNbParking\", \"ClaimNbFireTheft\", \"ClaimNbWindscreen\"], axis=1, inplace=True)"
   ]
  },
  {
   "cell_type": "code",
   "execution_count": 24,
   "metadata": {
    "colab": {
     "base_uri": "https://localhost:8080/",
     "height": 390
    },
    "colab_type": "code",
    "id": "cJ5_aqnx4FcZ",
    "outputId": "e4ec7990-c183-4dcd-8f81-4651ea47b03e"
   },
   "outputs": [
    {
     "data": {
      "text/html": [
       "<div>\n",
       "<style scoped>\n",
       "    .dataframe tbody tr th:only-of-type {\n",
       "        vertical-align: middle;\n",
       "    }\n",
       "\n",
       "    .dataframe tbody tr th {\n",
       "        vertical-align: top;\n",
       "    }\n",
       "\n",
       "    .dataframe thead th {\n",
       "        text-align: right;\n",
       "    }\n",
       "</style>\n",
       "<table border=\"1\" class=\"dataframe\">\n",
       "  <thead>\n",
       "    <tr style=\"text-align: right;\">\n",
       "      <th></th>\n",
       "      <th>Policies</th>\n",
       "    </tr>\n",
       "  </thead>\n",
       "  <tbody>\n",
       "    <tr>\n",
       "      <th>0.0</th>\n",
       "      <td>104286</td>\n",
       "    </tr>\n",
       "    <tr>\n",
       "      <th>2.0</th>\n",
       "      <td>3529</td>\n",
       "    </tr>\n",
       "    <tr>\n",
       "      <th>1.0</th>\n",
       "      <td>3339</td>\n",
       "    </tr>\n",
       "    <tr>\n",
       "      <th>3.0</th>\n",
       "      <td>2310</td>\n",
       "    </tr>\n",
       "    <tr>\n",
       "      <th>4.0</th>\n",
       "      <td>1101</td>\n",
       "    </tr>\n",
       "    <tr>\n",
       "      <th>5.0</th>\n",
       "      <td>428</td>\n",
       "    </tr>\n",
       "    <tr>\n",
       "      <th>6.0</th>\n",
       "      <td>127</td>\n",
       "    </tr>\n",
       "    <tr>\n",
       "      <th>7.0</th>\n",
       "      <td>26</td>\n",
       "    </tr>\n",
       "    <tr>\n",
       "      <th>8.0</th>\n",
       "      <td>6</td>\n",
       "    </tr>\n",
       "    <tr>\n",
       "      <th>9.0</th>\n",
       "      <td>2</td>\n",
       "    </tr>\n",
       "    <tr>\n",
       "      <th>11.0</th>\n",
       "      <td>1</td>\n",
       "    </tr>\n",
       "  </tbody>\n",
       "</table>\n",
       "</div>"
      ],
      "text/plain": [
       "      Policies\n",
       "0.0     104286\n",
       "2.0       3529\n",
       "1.0       3339\n",
       "3.0       2310\n",
       "4.0       1101\n",
       "5.0        428\n",
       "6.0        127\n",
       "7.0         26\n",
       "8.0          6\n",
       "9.0          2\n",
       "11.0         1"
      ]
     },
     "execution_count": 24,
     "metadata": {},
     "output_type": "execute_result"
    }
   ],
   "source": [
    "pd.DataFrame(df.ClaimsCount.value_counts()).rename({'ClaimsCount': 'Policies'}, axis=1)"
   ]
  },
  {
   "cell_type": "code",
   "execution_count": 25,
   "metadata": {},
   "outputs": [
    {
     "data": {
      "image/png": "[encoded data removed]",
      "text/plain": [
       "<Figure size 1080x576 with 1 Axes>"
      ]
     },
     "metadata": {
      "needs_background": "light"
     },
     "output_type": "display_data"
    }
   ],
   "source": [
    "plt.scatter(df['ClaimsCount'], df['ClaimAmount']) \n",
    "plt.title('Зависимость между частотой и величиной убытков')\n",
    "plt.show()"
   ]
  },
  {
   "cell_type": "markdown",
   "metadata": {
    "colab_type": "text",
    "id": "iCZAeoll6xac"
   },
   "source": [
    "Для моделирования среднего убытка можем рассчитать его как отношение величины убытков к их частоте."
   ]
  },
  {
   "cell_type": "code",
   "execution_count": 26,
   "metadata": {
    "colab": {},
    "colab_type": "code",
    "id": "y9AKwYtU6x1i"
   },
   "outputs": [],
   "source": [
    "dfAC = df[df.ClaimsCount > 0].copy()\n",
    "dfAC['AvgClaim'] = dfAC.ClaimAmount/dfAC.ClaimsCount #средний убыток - вторая целевая переменнная"
   ]
  },
  {
   "cell_type": "code",
   "execution_count": 28,
   "metadata": {},
   "outputs": [
    {
     "data": {
      "text/html": [
       "<div>\n",
       "<style scoped>\n",
       "    .dataframe tbody tr th:only-of-type {\n",
       "        vertical-align: middle;\n",
       "    }\n",
       "\n",
       "    .dataframe tbody tr th {\n",
       "        vertical-align: top;\n",
       "    }\n",
       "\n",
       "    .dataframe thead th {\n",
       "        text-align: right;\n",
       "    }\n",
       "</style>\n",
       "<table border=\"1\" class=\"dataframe\">\n",
       "  <thead>\n",
       "    <tr style=\"text-align: right;\">\n",
       "      <th></th>\n",
       "      <th>Exposure</th>\n",
       "      <th>LicAge</th>\n",
       "      <th>Gender</th>\n",
       "      <th>MariStat</th>\n",
       "      <th>DrivAge</th>\n",
       "      <th>HasKmLimit</th>\n",
       "      <th>BonusMalus</th>\n",
       "      <th>ClaimAmount</th>\n",
       "      <th>ClaimInd</th>\n",
       "      <th>OutUseNb</th>\n",
       "      <th>...</th>\n",
       "      <th>SocioCateg_CSP1</th>\n",
       "      <th>SocioCateg_CSP2</th>\n",
       "      <th>SocioCateg_CSP3</th>\n",
       "      <th>SocioCateg_CSP4</th>\n",
       "      <th>SocioCateg_CSP5</th>\n",
       "      <th>SocioCateg_CSP6</th>\n",
       "      <th>SocioCateg_CSP7</th>\n",
       "      <th>DrivAgeSq</th>\n",
       "      <th>ClaimsCount</th>\n",
       "      <th>AvgClaim</th>\n",
       "    </tr>\n",
       "  </thead>\n",
       "  <tbody>\n",
       "    <tr>\n",
       "      <th>33</th>\n",
       "      <td>0.617</td>\n",
       "      <td>602</td>\n",
       "      <td>0</td>\n",
       "      <td>0</td>\n",
       "      <td>68</td>\n",
       "      <td>0</td>\n",
       "      <td>50</td>\n",
       "      <td>5377.204532</td>\n",
       "      <td>1</td>\n",
       "      <td>0.0</td>\n",
       "      <td>...</td>\n",
       "      <td>0</td>\n",
       "      <td>0</td>\n",
       "      <td>0</td>\n",
       "      <td>0</td>\n",
       "      <td>0</td>\n",
       "      <td>1</td>\n",
       "      <td>0</td>\n",
       "      <td>4624</td>\n",
       "      <td>4.0</td>\n",
       "      <td>1344.301133</td>\n",
       "    </tr>\n",
       "    <tr>\n",
       "      <th>34</th>\n",
       "      <td>0.761</td>\n",
       "      <td>357</td>\n",
       "      <td>1</td>\n",
       "      <td>1</td>\n",
       "      <td>47</td>\n",
       "      <td>0</td>\n",
       "      <td>50</td>\n",
       "      <td>2017.843505</td>\n",
       "      <td>1</td>\n",
       "      <td>0.0</td>\n",
       "      <td>...</td>\n",
       "      <td>0</td>\n",
       "      <td>0</td>\n",
       "      <td>0</td>\n",
       "      <td>0</td>\n",
       "      <td>1</td>\n",
       "      <td>0</td>\n",
       "      <td>0</td>\n",
       "      <td>2209</td>\n",
       "      <td>2.0</td>\n",
       "      <td>1008.921752</td>\n",
       "    </tr>\n",
       "    <tr>\n",
       "      <th>53</th>\n",
       "      <td>0.023</td>\n",
       "      <td>271</td>\n",
       "      <td>0</td>\n",
       "      <td>0</td>\n",
       "      <td>49</td>\n",
       "      <td>0</td>\n",
       "      <td>50</td>\n",
       "      <td>356.773414</td>\n",
       "      <td>1</td>\n",
       "      <td>2.0</td>\n",
       "      <td>...</td>\n",
       "      <td>0</td>\n",
       "      <td>0</td>\n",
       "      <td>0</td>\n",
       "      <td>0</td>\n",
       "      <td>1</td>\n",
       "      <td>0</td>\n",
       "      <td>0</td>\n",
       "      <td>2401</td>\n",
       "      <td>2.0</td>\n",
       "      <td>178.386707</td>\n",
       "    </tr>\n",
       "    <tr>\n",
       "      <th>65</th>\n",
       "      <td>0.833</td>\n",
       "      <td>539</td>\n",
       "      <td>0</td>\n",
       "      <td>0</td>\n",
       "      <td>75</td>\n",
       "      <td>0</td>\n",
       "      <td>50</td>\n",
       "      <td>645.125982</td>\n",
       "      <td>1</td>\n",
       "      <td>0.0</td>\n",
       "      <td>...</td>\n",
       "      <td>0</td>\n",
       "      <td>0</td>\n",
       "      <td>0</td>\n",
       "      <td>0</td>\n",
       "      <td>0</td>\n",
       "      <td>1</td>\n",
       "      <td>0</td>\n",
       "      <td>5625</td>\n",
       "      <td>1.0</td>\n",
       "      <td>645.125982</td>\n",
       "    </tr>\n",
       "    <tr>\n",
       "      <th>66</th>\n",
       "      <td>0.957</td>\n",
       "      <td>302</td>\n",
       "      <td>1</td>\n",
       "      <td>0</td>\n",
       "      <td>49</td>\n",
       "      <td>0</td>\n",
       "      <td>54</td>\n",
       "      <td>1200.422356</td>\n",
       "      <td>1</td>\n",
       "      <td>0.0</td>\n",
       "      <td>...</td>\n",
       "      <td>0</td>\n",
       "      <td>0</td>\n",
       "      <td>0</td>\n",
       "      <td>0</td>\n",
       "      <td>1</td>\n",
       "      <td>0</td>\n",
       "      <td>0</td>\n",
       "      <td>2401</td>\n",
       "      <td>2.0</td>\n",
       "      <td>600.211178</td>\n",
       "    </tr>\n",
       "  </tbody>\n",
       "</table>\n",
       "<p>5 rows × 25 columns</p>\n",
       "</div>"
      ],
      "text/plain": [
       "    Exposure  LicAge  Gender  MariStat  DrivAge  HasKmLimit  BonusMalus  \\\n",
       "33     0.617     602       0         0       68           0          50   \n",
       "34     0.761     357       1         1       47           0          50   \n",
       "53     0.023     271       0         0       49           0          50   \n",
       "65     0.833     539       0         0       75           0          50   \n",
       "66     0.957     302       1         0       49           0          54   \n",
       "\n",
       "    ClaimAmount  ClaimInd  OutUseNb  ...  SocioCateg_CSP1  SocioCateg_CSP2  \\\n",
       "33  5377.204532         1       0.0  ...                0                0   \n",
       "34  2017.843505         1       0.0  ...                0                0   \n",
       "53   356.773414         1       2.0  ...                0                0   \n",
       "65   645.125982         1       0.0  ...                0                0   \n",
       "66  1200.422356         1       0.0  ...                0                0   \n",
       "\n",
       "    SocioCateg_CSP3  SocioCateg_CSP4  SocioCateg_CSP5  SocioCateg_CSP6  \\\n",
       "33                0                0                0                1   \n",
       "34                0                0                1                0   \n",
       "53                0                0                1                0   \n",
       "65                0                0                0                1   \n",
       "66                0                0                1                0   \n",
       "\n",
       "    SocioCateg_CSP7  DrivAgeSq  ClaimsCount     AvgClaim  \n",
       "33                0       4624          4.0  1344.301133  \n",
       "34                0       2209          2.0  1008.921752  \n",
       "53                0       2401          2.0   178.386707  \n",
       "65                0       5625          1.0   645.125982  \n",
       "66                0       2401          2.0   600.211178  \n",
       "\n",
       "[5 rows x 25 columns]"
      ]
     },
     "execution_count": 28,
     "metadata": {},
     "output_type": "execute_result"
    }
   ],
   "source": [
    "dfAC.head()"
   ]
  },
  {
   "cell_type": "markdown",
   "metadata": {
    "colab_type": "text",
    "id": "VpYxkXdrLD01"
   },
   "source": [
    "## Разделение набора данных на обучающую, валидационную и тестовую выборки"
   ]
  },
  {
   "cell_type": "code",
   "execution_count": 29,
   "metadata": {
    "colab": {},
    "colab_type": "code",
    "id": "piO1n8o2LFAJ"
   },
   "outputs": [],
   "source": [
    "from sklearn.model_selection import train_test_split"
   ]
  },
  {
   "cell_type": "markdown",
   "metadata": {},
   "source": [
    "разбиваем на две части по двум целевым переменным: 1) частота и 2) средний убыток "
   ]
  },
  {
   "cell_type": "code",
   "execution_count": 30,
   "metadata": {
    "colab": {},
    "colab_type": "code",
    "id": "dGvhYDXdLFoR"
   },
   "outputs": [],
   "source": [
    "# Разбиение датасета для частоты на train/val/test\n",
    "\n",
    "x_train_c, x_test_c, y_train_c, y_test_c = train_test_split(df.drop(['ClaimInd', 'ClaimAmount', 'ClaimsCount'], axis=1), df.ClaimsCount, test_size=0.3, random_state=1)\n",
    "x_valid_c, x_test_c, y_valid_c, y_test_c = train_test_split(x_test_c, y_test_c, test_size=0.5, random_state=1)"
   ]
  },
  {
   "cell_type": "code",
   "execution_count": 31,
   "metadata": {
    "colab": {},
    "colab_type": "code",
    "id": "XBBJ06RA96Xk"
   },
   "outputs": [],
   "source": [
    "# Разбиение датасета для среднего убытка на train/val/test \n",
    "\n",
    "x_train_ac, x_test_ac, y_train_ac, y_test_ac = train_test_split(dfAC.drop(['ClaimInd', 'ClaimAmount', 'ClaimsCount', 'AvgClaim'], axis=1), dfAC.AvgClaim, test_size=0.3, random_state=1)\n",
    "x_valid_ac, x_test_ac, y_valid_ac, y_test_ac = train_test_split(x_test_ac, y_test_ac, test_size=0.5, random_state=1)"
   ]
  },
  {
   "cell_type": "markdown",
   "metadata": {
    "colab_type": "text",
    "id": "MVH6ncAFgWXF"
   },
   "source": [
    "## Обобщенные линейные модели (Generalized Linear Models, GLM)"
   ]
  },
  {
   "cell_type": "markdown",
   "metadata": {
    "colab_type": "text",
    "id": "Irg71_9zMJxT"
   },
   "source": [
    "### Теория"
   ]
  },
  {
   "cell_type": "markdown",
   "metadata": {
    "colab_type": "text",
    "id": "R5SOE8shgaDi"
   },
   "source": [
    "Пусть $y$ – целевая переменная, $X$ – матрица объясняющих переменных, $\\beta$ – вектор параметров модели.\n",
    "\n",
    "Матрица $X$ составлена из всех векторов наблюдений $x_i$, каждый из которых представляет собой объясняющую переменную.\n",
    "\n",
    "Основные компоненты обобщенной линейной модели:\n",
    "* Систематическая компонента $\\eta$:\n",
    "    * $\\eta = X\\beta \\hspace{10pt}(=\\beta_0+\\beta_1x_1+\\beta_2x_2+\\dots+\\beta_nx_n)$.\n",
    "* Случайная компонента $y$:\n",
    "    * Элементы вектора $y$ – независимые одинаково распределенные случайные величины, имеющие функцию плотности распределения $f(y;\\theta,\\phi)$ из экспоненциального семейства.\n",
    "    * Распределения из экспоненциального семейства имеют параметры $\\theta$ (характеристика среднего) и $\\phi$ (характеристика дисперсии). В общем виде данные распределения могут быть определены:\n",
    "    $$f_i(y_i;\\theta_i,\\phi)=\\exp\\left\\lbrace \\frac{y_i\\theta_i-b(\\theta_i)}{a_i(\\phi)} + c(y_i, \\phi) \\right\\rbrace,$$\n",
    "    где $a_i(\\phi)$, $b(\\theta_i)$ и $c(y_i, \\phi)$ некоторые функции.\n",
    "    * Для распределений из данного семейства дисперсия является функцией от среднего.\n",
    "    * Экспоненциальное семейство включает распределения нормальное, экспоненциальное, Пуассона, гамма, хи-квадрат, бета и другие.\n",
    "* Функция связи $g$:\n",
    "    * $\\mathbb{E}\\left[y\\right]=\\mu=g^{-1}\\left(\\eta\\right)$, $\\mu$ – математическое ожидание $y$;\n",
    "    * $g$ – монотонная дифференцируемая функция.\n",
    "\n",
    "\n"
   ]
  },
  {
   "cell_type": "markdown",
   "metadata": {
    "colab_type": "text",
    "id": "LoBqR6SkGDKm"
   },
   "source": [
    "#### GLM с распределением Пуассона"
   ]
  },
  {
   "cell_type": "markdown",
   "metadata": {
    "colab_type": "text",
    "id": "stmssdazGHpt"
   },
   "source": [
    "Регрессия Пуассона обычно используется в случаях, когда зависимая переменная представляет собой счетные значения и ошибки предполагаются распределенными в соответствии с распределением Пуассона. Зависимая переменная должна быть неотрицательной.\n",
    "\n",
    "Функции связи между таргетом и объясняющими переменными предполагается логарифмической:\n",
    "$$g(\\eta) = \\ln(\\eta) \\Rightarrow \\hat {y} = e^{x{^T}\\beta + {\\beta_{0}}}.$$\n",
    "\n",
    "Модель оценивается методом максимального правдоподобия, функция логарифма правдоподобия с учетом штрафа регуляризации эластичной сети имеет вид:\n",
    "$$\\max_{\\beta,\\beta_0} \\frac{1}{N} \\sum_{i=1}^{N} \\Big( y_i(x_{i}^{T}\\beta + \\beta_0) - e^{x{^T_i}\\beta + {\\beta_0}} \\Big)- \\lambda \\Big( \\alpha||\\beta||_1 + \\dfrac {1} {2}(1 - \\alpha)||\\beta||^2_2 \\Big),$$\n",
    "\n",
    "где \n",
    "* $\\lambda$ – параметр, отвечающий за силу регуляризации. $\\lambda\\in\\mathbb{R}^{+}$;\n",
    "* $\\alpha$ – параметр, отвечающий за распределение штрафов регуляризации между нормой 1 ($\\ell_1$) и нормой 2 ($\\ell_2$). $\\alpha\\in[0,1]$;\n",
    "* $||\\beta||{_1}$ – штраф регуляризации $\\ell_1$ (LASSO). $||\\beta||{_1} = \\sum{^p_{k=1}} |\\beta{_k}|$;\n",
    "* $||\\beta||{_2}$ – штраф регуляризации $\\ell_2$ (Ridge). $||\\beta||{_2} = \\sum{^p_{k=1}} \\beta{^2_k}$.\n",
    "\n",
    "Тогда соответствующая метрика _Deviance_ имеет вид:\n",
    "$$D = -2 \\sum_{i=1}^{N} \\big( y_i \\text{ln}(y_i / \\hat {y}_i) - (y_i - \\hat {y}_i) \\big).$$"
   ]
  },
  {
   "cell_type": "markdown",
   "metadata": {
    "colab_type": "text",
    "id": "6qEMtZhcy0nZ"
   },
   "source": [
    "##### Вывод функции правдоподобия для GLM с распределением Пуассона (без регуляризации)"
   ]
  },
  {
   "cell_type": "markdown",
   "metadata": {
    "colab_type": "text",
    "id": "ByGAuksEUt3c"
   },
   "source": [
    "**NB:** Ниже $\\lambda$ не имеет отношения к вышеупомянутому одноименному параметру регуляризации."
   ]
  },
  {
   "cell_type": "markdown",
   "metadata": {
    "colab_type": "text",
    "id": "YN6oPpI_3Tg-"
   },
   "source": [
    "Напомним, что функция вероятности для распределения Пуассона имеет вид:\n",
    "$$p(k;\\lambda) = \\frac{\\lambda^k e^{-\\lambda}}{k!}, \\hspace{10pt} \\lambda\\in\\mathbb{R}^{+}.$$\n",
    "Также, для распределения Пуассона справедливо, что:\n",
    "$$\\mathbb{E}\\left[k\\right] = Var(k) = \\lambda.$$\n",
    "Тогда, для оценивания коэффициентов нашей модели необходимо максимизировать правдоподобие (совместную условную вероятность при имеющихся данных), что данные имеют распределение Пуассона:\n",
    "$$p(y_1,\\dots,y_n|x_1,\\dots,x_n;\\beta_0,\\beta) = \\prod_{i=1}^{N}\\frac{e^{y_i(x_i{^T}\\beta + {\\beta_{0}})} e^{-e^{x_i{^T}\\beta + {\\beta_{0}}}}}{y_i!} = L(\\beta_0,\\beta|y_1,\\dots,y_n,x_1,\\dots,x_n).$$\n",
    "Для упрощения задачи оптимизации перейдем к логарифму правдоподобия:\n",
    "$$\\ell(\\beta_0,\\beta|y_1,\\dots,y_n,x_1,\\dots,x_n) = \\sum_{i=1}^{N}\\left(y_i(x_i{^T}\\beta + {\\beta_{0}}) -e^{x_i{^T}\\beta + {\\beta_{0}}}-\\ln(y_i!)\\right).$$\n",
    "Поскольку величина $\\ln(y_i!)$ не зависит от выбора параметров, можно упростить задачу:\n",
    "$$\\ell(\\beta_0,\\beta|y_1,\\dots,y_n,x_1,\\dots,x_n) = \\sum_{i=1}^{N}\\left(y_i(x_i{^T}\\beta + {\\beta_{0}}) -e^{x_i{^T}\\beta + {\\beta_{0}}}\\right).$$\n",
    "Далее численно решается задача оптимизации для определения параметров модели:\n",
    "$$\\frac{\\partial \\ell(\\beta_0,\\beta|y_1,\\dots,y_n,x_1,\\dots,x_n)}{\\partial \\beta_0} = 0,\\\\\\frac{\\partial \\ell(\\beta_0,\\beta|y_1,\\dots,y_n,x_1,\\dots,x_n)}{\\partial \\beta} = 0.$$\n",
    "Обычно минимизируется отрицательное правдоподобие, которое является выпуклой функцией."
   ]
  },
  {
   "cell_type": "markdown",
   "metadata": {
    "colab_type": "text",
    "id": "rXdxE61XFNXd"
   },
   "source": [
    "##### Вывод метрики Deviance для GLM с распределением Пуассона"
   ]
  },
  {
   "cell_type": "markdown",
   "metadata": {
    "colab_type": "text",
    "id": "zP2oklD3FVgC"
   },
   "source": [
    "Метрика Deviance представляет собой отношение правдоподобия между двумя моделями: рассматриваемой моделью и \"идеальной\" моделью, в которая бы идеально предсказывала бы зависимую переменную.\n",
    "$$Deviance = 2(\\ell_{ideal} - \\ell_{model})$$\n",
    "\n",
    "В качестве такой \"идеальной модели\" может использоваться сама зависимая переменная. Тогда, логарифм правдоподобия \"идеальной модели\" для GLM с распределением Пуассона имеет вид:\n",
    "$$\\ell_{ideal} = \\sum_{i=1}^{N}\\left(y_i \\ln(y_i) -y_i-\\ln(y_i!)\\right).$$\n",
    "\n",
    "Из приведенного выше вывода правдоподобия для рассматриваемой модели, мы можем записать, обозначив $\\hat{y}_i = e^{x{^T}\\beta + {\\beta_{0}}}$:\n",
    "$$\\ell_{model} = \\sum_{i=1}^{N}\\left(y_i \\ln(\\hat{y}_i) -\\hat{y}_i-\\ln(y_i!)\\right).$$\n",
    "\n",
    "Тогда получаем,\n",
    "$$Deviance = 2\\sum_{i=1}^{N}\\left(y_i \\ln(y_i) -y_i - y_i \\ln(\\hat{y}_i) +\\hat{y}_i\\right) = -2\\sum_{i=1}^{N}\\left(y_i \\ln(y_i/\\hat{y}_i) - (y_i -\\hat{y}_i)\\right).$$\n"
   ]
  },
  {
   "cell_type": "markdown",
   "metadata": {
    "colab_type": "text",
    "id": "vTWFrSADGE2v"
   },
   "source": [
    "#### GLM с гамма-распределением"
   ]
  },
  {
   "cell_type": "markdown",
   "metadata": {
    "colab_type": "text",
    "id": "zURS5rANGpQM"
   },
   "source": [
    "GLM с гамма-распределением используется для моделирования положительной непрерывной зависимой переменной, когда ее условная дисперсия увеличивается вместе со средним значением, но коэффициент вариации зависимой переменной предполагается постоянным.\n",
    "\n",
    "Обычно GLM с гамма-распределением используются с логарифмической или обратной функциями связи:\n",
    "$$g(\\eta) = \\ln(\\eta);\\hspace{20pt}g(\\eta) = \\frac{1}{\\eta}.$$\n",
    "\n",
    "Модель оценивается методом максимального правдоподобия, функция логарифма правдоподобия (для обратной функции связи) с учетом штрафа регуляризации эластичной сети имеет вид:\n",
    "$$\\max_{\\beta,\\beta_0} - \\frac{1}{N} \\sum_{i=1}^{N} \\frac{y_i}{x{^T_i}\\beta + \\beta_0} + \\text{ln} \\big( x{^T_i}\\beta + \\beta_0 \\big ) - \\lambda \\Big( \\alpha||\\beta||_1 + \\dfrac {1} {2}(1 - \\alpha)||\\beta||^2_2 \\Big),$$\n",
    "\n",
    "где \n",
    "* $\\lambda$ – параметр, отвечающий за силу регуляризации. $\\lambda\\in\\mathbb{R}^{+}$;\n",
    "* $\\alpha$ – параметр, отвечающий за распределение штрафов регуляризации между нормой 1 ($\\ell_1$) и нормой 2 ($\\ell_2$). $\\alpha\\in[0,1]$;\n",
    "* $||\\beta||{_1}$ – штраф регуляризации $\\ell_1$ (LASSO). $||\\beta||{_1} = \\sum{^p_{k=1}} |\\beta{_k}|$;\n",
    "* $||\\beta||{_2}$ – штраф регуляризации $\\ell_2$ (Ridge). $||\\beta||{_2} = \\sum{^p_{k=1}} \\beta{^2_k}$.\n",
    "\n",
    "Соответствующая метрика _Deviance_ имеет вид:\n",
    "$$D = 2 \\sum_{i=1}^{N} - \\text{ln} \\bigg (\\dfrac {y_i} {\\hat {y}_i} \\bigg) + \\dfrac {(y_i - \\hat{y}_i)} {\\hat {y}_i}.$$\n",
    "\n",
    "\n"
   ]
  },
  {
   "cell_type": "markdown",
   "metadata": {
    "colab_type": "text",
    "id": "g556ItOFqrlt"
   },
   "source": [
    "##### Вывод функции правдоподобия для GLM с Гамма-распределением и логарифмической функцией связи (без регуляризации)"
   ]
  },
  {
   "cell_type": "markdown",
   "metadata": {
    "colab_type": "text",
    "id": "sMwfkpunUSh3"
   },
   "source": [
    "**NB:** Ниже $\\alpha$ и $\\lambda$ не имеют отношения к вышеупомянутым одноименным параметрам регуляризации."
   ]
  },
  {
   "cell_type": "markdown",
   "metadata": {
    "colab_type": "text",
    "id": "U4_fS_r2qsSV"
   },
   "source": [
    "Напомним, что функция плотности вероятности для Гамма-распределения имеет вид:\n",
    "$$f(x;\\alpha,\\lambda) = \n",
    "\\begin{cases}\n",
    "\\frac{\\alpha^\\lambda}{\\Gamma(\\lambda)}x^{\\lambda-1}e^{-\\alpha x},&x \\ge 0\\\\\n",
    "0,& x <0\n",
    "\\end{cases},\\hspace{20pt} \\Gamma(x) = \\int_0^{\\infty}x^{\\lambda-1}e^{-x}dx.\n",
    "$$\n",
    "Также, для Гамма-распределения справедливо, что:\n",
    "$$ \\mathbb{E}[x] = \\frac{\\lambda}{\\alpha},\\hspace{15pt} Var(x) = \\frac{\\lambda}{\\alpha^2}.$$"
   ]
  },
  {
   "cell_type": "markdown",
   "metadata": {
    "colab_type": "text",
    "id": "ANqE1W2i9Oo0"
   },
   "source": [
    "Для оценивания GLM удобно параметризовать данное распределение иначе:\n",
    "$$ \\mathbb{E}[x] = \\frac{\\lambda}{\\alpha} = \\mu,\\hspace{15pt} Var(x) = \\frac{\\lambda}{\\alpha^2} = \\frac{\\mu^2}{\\lambda}.$$\n",
    "Тогда,\n",
    "$$f(x;\\mu,\\lambda) = \\frac{1}{\\Gamma(\\lambda)}\\alpha^\\lambda x^{\\lambda-1}e^{-\\alpha x} = \\frac{1}{\\Gamma(\\lambda)}\\left(\\frac{\\lambda}{\\mu}\\right)^\\lambda x^{\\lambda-1}e^{-\\left(\\frac{\\lambda}{\\mu}\\right)x} = \\frac{1}{x\\cdot\\Gamma(\\lambda)}\\left(\\frac{\\lambda x}{\\mu}\\right)^\\lambda e^{-\\frac{\\lambda x}{\\mu}},\\hspace{15pt} x\\ge 0.$$\n",
    "\n",
    "Также напомним, что для GLM с функцией связи $\\ln(x)$ предсказание (оценка математического ожидания) имеет вид $\\hat {y} = e^{x{^T}\\beta + {\\beta_{0}}}$.\n"
   ]
  },
  {
   "cell_type": "markdown",
   "metadata": {
    "colab_type": "text",
    "id": "XTIQAUDg9NXg"
   },
   "source": [
    "Тогда, для оценивания коэффициентов нашей модели необходимо максимизировать правдоподобие (совместную условную вероятность при имеющихся данных), что данные имеют Гамма-распределение, в предположении известного параметра $\\lambda$:\n",
    "$$p(y_1,\\dots,y_n|x_1,\\dots,x_n;\\beta_0,\\beta) = \\prod_{i=1}^{N}\\frac{1}{y_i\\cdot\\Gamma(\\lambda)}\\left(\\frac{\\lambda y_i}{e^{x_i{^T}\\beta + {\\beta_{0}}}}\\right)^\\lambda e^{-\\frac{\\lambda y_i}{e^{x_i{^T}\\beta + {\\beta_{0}}}}} = L(\\beta_0,\\beta|y_1,\\dots,y_n,x_1,\\dots,x_n).$$\n",
    "Для упрощения задачи оптимизации перейдем к логарифму правдоподобия:\n",
    "\\begin{align}\n",
    "\\ell(\\beta_0,\\beta|y_1,\\dots,y_n,x_1,\\dots,x_n) &= \\sum_{i=1}^{N}\\left(-\\ln(\\Gamma(\\lambda))-\\ln(y_i)+ \\lambda\\ln\\left(\\frac{\\lambda y_i}{e^{x_i{^T}\\beta + {\\beta_{0}}}}\\right) -\\frac{\\lambda y_i}{e^{x_i{^T}\\beta + {\\beta_{0}}}}\\right)\\\\ &= \\sum_{i=1}^{N}\\left(-\\ln(\\Gamma(\\lambda))-\\ln(y_i) + \\lambda\\ln\\left(\\lambda\\right)+\\lambda\\ln\\left(y_i\\right)-\\lambda\\left({x_i{^T}\\beta + {\\beta_{0}}}\\right) -\\frac{\\lambda y_i}{e^{x_i{^T}\\beta + {\\beta_{0}}}}\\right)\\\\ &= \\sum_{i=1}^{N}\\left((\\lambda-1)\\ln\\left(y_i\\right)-\\ln(\\Gamma(\\lambda)) + \\lambda\\ln\\left(\\lambda\\right)-\\lambda\\left({x_i{^T}\\beta + {\\beta_{0}}}\\right) -\\frac{\\lambda y_i}{e^{x_i{^T}\\beta + {\\beta_{0}}}}\\right).\n",
    "\\end{align}\n",
    "Тогда обозначим слагаемые, не зависящие от параметров модели ($\\beta_0$, $\\beta$), как некоторую константу $C$, получаем:\n",
    "$$\\ell(\\beta_0,\\beta|y_1,\\dots,y_n,x_1,\\dots,x_n) = \\sum_{i=1}^{N}\\left(-\\lambda\\left(\\left({x_i{^T}\\beta + {\\beta_{0}}}\\right) +\\frac{y_i}{e^{x_i{^T}\\beta + {\\beta_{0}}}}\\right) + C(y_i, \\lambda)\\right),$$\n",
    "Таким образом, требуется максимизировать\n",
    "$$\\ell(\\beta_0,\\beta|y_1,\\dots,y_n,x_1,\\dots,x_n) = -\\sum_{i=1}^{N}\\left(\\left({x_i{^T}\\beta + {\\beta_{0}}}\\right) + \\frac{y_i}{e^{x_i{^T}\\beta + {\\beta_{0}}}}\\right),$$\n",
    "Далее численно решается задача оптимизации для определения параметров модели:\n",
    "$$\\frac{\\partial \\ell(\\beta_0,\\beta|y_1,\\dots,y_n,x_1,\\dots,x_n)}{\\partial \\beta_0} = 0,\\\\\\frac{\\partial \\ell(\\beta_0,\\beta|y_1,\\dots,y_n,x_1,\\dots,x_n)}{\\partial \\beta} = 0.$$\n",
    "Обычно минимизируется отрицательное правдоподобие, которое является выпуклой функцией."
   ]
  },
  {
   "cell_type": "markdown",
   "metadata": {
    "colab_type": "text",
    "id": "idUKi7_RqxHA"
   },
   "source": [
    "##### Вывод метрики Deviance для GLM с Гамма-распределением"
   ]
  },
  {
   "cell_type": "markdown",
   "metadata": {
    "colab_type": "text",
    "id": "FK1D3Pz3qwbL"
   },
   "source": [
    "Метрика Deviance представляет собой отношение правдоподобия между двумя моделями: рассматриваемой моделью и \"идеальной\" моделью, в которая бы идеально предсказывала бы зависимую переменную.\n",
    "$$Deviance = 2(\\ell_{ideal} - \\ell_{model})$$\n",
    "\n",
    "В качестве такой \"идеальной модели\" может использоваться сама зависимая переменная. Тогда, логарифм правдоподобия \"идеальной модели\" для GLM с распределением Пуассона имеет вид:\n",
    "$$\\ell_{ideal} = -\\sum_{i=1}^{N}\\left(1 + \\ln(y_i)\\right).$$\n",
    "\n",
    "Из приведенного выше вывода правдоподобия для рассматриваемой модели, мы можем записать, обозначив $\\hat{y}_i = e^{x{^T}\\beta + {\\beta_{0}}}$:\n",
    "$$\\ell_{model} = -\\sum_{i=1}^{N}\\left(\\frac{y_i}{\\hat{y}_i} + \\ln(\\hat{y}_i)\\right).$$\n",
    "\n",
    "Тогда получаем,\n",
    "$$Deviance = 2\\sum_{i=1}^{N}\\left(- 1 - \\ln(y_i) + \\frac{y_i}{\\hat{y}_i} + \\ln(\\hat{y}_i)\\right) = 2\\sum_{i=1}^{N}\\left(-\\ln\\left(\\frac{y_i}{\\hat{y}_i}\\right)+\\frac{y_i-\\hat{y}_i}{\\hat{y}_i} \\right).$$"
   ]
  },
  {
   "cell_type": "markdown",
   "metadata": {
    "colab_type": "text",
    "id": "hUUC9Vmhf5aB"
   },
   "source": [
    "#### Дополнительная литература по GLM"
   ]
  },
  {
   "cell_type": "markdown",
   "metadata": {
    "colab_type": "text",
    "id": "gRAxYOQcf-uD"
   },
   "source": [
    "*   [P. McCullagh, John A. Nelder _\"Generalized Linear Models\"_](http://www.utstat.toronto.edu/~brunner/oldclass/2201s11/readings/glmbook.pdf)\n",
    "*   [D. Anderson, et al. _\"A practitioner’s guide to generalized linear models\"_](https://www.casact.org/pubs/dpp/dpp04/04dpp1.pdf)\n",
    "*   [E. Ohlsson, B. Johansson _\"Non-life insurance pricing with generalized linear models\"_](https://www.springer.com/gp/book/9783642107900)\n",
    "*   [P. De Jong, G. Heller _\"Generalized linear models for insurance data\"_](https://feb.kuleuven.be/public/u0017833/boek.pdf)\n",
    "\n",
    "\n"
   ]
  },
  {
   "cell_type": "markdown",
   "metadata": {
    "colab_type": "text",
    "id": "fKCG1lssMNA7"
   },
   "source": [
    "### Установка H2O на Google Colaboratory и инициализация"
   ]
  },
  {
   "cell_type": "code",
   "execution_count": 38,
   "metadata": {
    "colab": {
     "base_uri": "https://localhost:8080/",
     "height": 102
    },
    "colab_type": "code",
    "id": "XgOdDSP-gXCd",
    "outputId": "f5d313c8-f879-4712-e42b-86f2657b9f47"
   },
   "outputs": [],
   "source": [
    "#!apt-get install default-jre"
   ]
  },
  {
   "cell_type": "code",
   "execution_count": 32,
   "metadata": {
    "colab": {
     "base_uri": "https://localhost:8080/",
     "height": 389
    },
    "colab_type": "code",
    "id": "KSdsMa-agl-6",
    "outputId": "2ee3b9d2-d646-4a9f-e730-b6ef6d94f90a"
   },
   "outputs": [
    {
     "name": "stdout",
     "output_type": "stream",
     "text": [
      "Checking whether there is an H2O instance running at http://localhost:54321 ..... not found.\n",
      "Attempting to start a local H2O server...\n",
      "; Java HotSpot(TM) 64-Bit Server VM 18.9 (build 11.0.7+8-LTS, mixed mode)\n",
      "  Starting server from C:\\Users\\user\\anaconda3\\lib\\site-packages\\h2o\\backend\\bin\\h2o.jar\n",
      "  Ice root: C:\\Users\\user\\AppData\\Local\\Temp\\tmpc21sspi5\n",
      "  JVM stdout: C:\\Users\\user\\AppData\\Local\\Temp\\tmpc21sspi5\\h2o_user_started_from_python.out\n",
      "  JVM stderr: C:\\Users\\user\\AppData\\Local\\Temp\\tmpc21sspi5\\h2o_user_started_from_python.err\n",
      "  Server is running at http://127.0.0.1:54321\n",
      "Connecting to H2O server at http://127.0.0.1:54321 ... successful.\n"
     ]
    },
    {
     "data": {
      "text/html": [
       "<div style=\"overflow:auto\"><table style=\"width:50%\"><tr><td>H2O_cluster_uptime:</td>\n",
       "<td>01 secs</td></tr>\n",
       "<tr><td>H2O_cluster_timezone:</td>\n",
       "<td>Europe/Moscow</td></tr>\n",
       "<tr><td>H2O_data_parsing_timezone:</td>\n",
       "<td>UTC</td></tr>\n",
       "<tr><td>H2O_cluster_version:</td>\n",
       "<td>3.30.0.3</td></tr>\n",
       "<tr><td>H2O_cluster_version_age:</td>\n",
       "<td>16 days </td></tr>\n",
       "<tr><td>H2O_cluster_name:</td>\n",
       "<td>H2O_from_python_user_vu9650</td></tr>\n",
       "<tr><td>H2O_cluster_total_nodes:</td>\n",
       "<td>1</td></tr>\n",
       "<tr><td>H2O_cluster_free_memory:</td>\n",
       "<td>3.984 Gb</td></tr>\n",
       "<tr><td>H2O_cluster_total_cores:</td>\n",
       "<td>6</td></tr>\n",
       "<tr><td>H2O_cluster_allowed_cores:</td>\n",
       "<td>6</td></tr>\n",
       "<tr><td>H2O_cluster_status:</td>\n",
       "<td>accepting new members, healthy</td></tr>\n",
       "<tr><td>H2O_connection_url:</td>\n",
       "<td>http://127.0.0.1:54321</td></tr>\n",
       "<tr><td>H2O_connection_proxy:</td>\n",
       "<td>{\"http\": null, \"https\": null}</td></tr>\n",
       "<tr><td>H2O_internal_security:</td>\n",
       "<td>False</td></tr>\n",
       "<tr><td>H2O_API_Extensions:</td>\n",
       "<td>Amazon S3, Algos, AutoML, Core V3, TargetEncoder, Core V4</td></tr>\n",
       "<tr><td>Python_version:</td>\n",
       "<td>3.7.6 final</td></tr></table></div>"
      ],
      "text/plain": [
       "--------------------------  ---------------------------------------------------------\n",
       "H2O_cluster_uptime:         01 secs\n",
       "H2O_cluster_timezone:       Europe/Moscow\n",
       "H2O_data_parsing_timezone:  UTC\n",
       "H2O_cluster_version:        3.30.0.3\n",
       "H2O_cluster_version_age:    16 days\n",
       "H2O_cluster_name:           H2O_from_python_user_vu9650\n",
       "H2O_cluster_total_nodes:    1\n",
       "H2O_cluster_free_memory:    3.984 Gb\n",
       "H2O_cluster_total_cores:    6\n",
       "H2O_cluster_allowed_cores:  6\n",
       "H2O_cluster_status:         accepting new members, healthy\n",
       "H2O_connection_url:         http://127.0.0.1:54321\n",
       "H2O_connection_proxy:       {\"http\": null, \"https\": null}\n",
       "H2O_internal_security:      False\n",
       "H2O_API_Extensions:         Amazon S3, Algos, AutoML, Core V3, TargetEncoder, Core V4\n",
       "Python_version:             3.7.6 final\n",
       "--------------------------  ---------------------------------------------------------"
      ]
     },
     "metadata": {},
     "output_type": "display_data"
    }
   ],
   "source": [
    "import h2o\n",
    "from h2o.estimators.glm import H2OGeneralizedLinearEstimator\n",
    "h2o.init()"
   ]
  },
  {
   "cell_type": "markdown",
   "metadata": {
    "colab_type": "text",
    "id": "YttnrY4wMqu3"
   },
   "source": [
    "### Построение GLM для частоты страховых случаев"
   ]
  },
  {
   "cell_type": "code",
   "execution_count": 33,
   "metadata": {
    "colab": {
     "base_uri": "https://localhost:8080/",
     "height": 68
    },
    "colab_type": "code",
    "id": "r-BqsBNx_zIH",
    "outputId": "e2d64920-179f-408f-a032-e62bbcadeb2e"
   },
   "outputs": [
    {
     "name": "stdout",
     "output_type": "stream",
     "text": [
      "Parse progress: |█████████████████████████████████████████████████████████| 100%\n",
      "Parse progress: |█████████████████████████████████████████████████████████| 100%\n",
      "Parse progress: |█████████████████████████████████████████████████████████| 100%\n"
     ]
    }
   ],
   "source": [
    "# Преобразование в H2O-Frame\n",
    "\n",
    "h2o_train_c = h2o.H2OFrame(pd.concat([x_train_c, y_train_c], axis=1))\n",
    "h2o_valid_c = h2o.H2OFrame(pd.concat([x_valid_c, y_valid_c], axis=1))\n",
    "h2o_test_c = h2o.H2OFrame(pd.concat([x_test_c, y_test_c], axis=1))"
   ]
  },
  {
   "cell_type": "code",
   "execution_count": 34,
   "metadata": {
    "colab": {
     "base_uri": "https://localhost:8080/",
     "height": 34
    },
    "colab_type": "code",
    "id": "GarP9wfMgmiP",
    "outputId": "24833aec-c9c9-42ea-d28f-fbb3e4c091d6"
   },
   "outputs": [
    {
     "name": "stdout",
     "output_type": "stream",
     "text": [
      "glm Model Build progress: |███████████████████████████████████████████████| 100%\n"
     ]
    }
   ],
   "source": [
    "# Инициализируем и обучим GLM модель c кросс-валидацией\n",
    "\n",
    "# семейство распределения - Пуассон. функция связи - логарифмы\n",
    "# nfolds - количество фолдов для кросс-валидации \n",
    "# x = h2o_train_c.names[1:-1] - последний столбец не используем - это целевая переменная, \n",
    "# а первый - экспозиция  weights_column = \"Exposure\", используем для весов значения\n",
    "\n",
    "glm_poisson = H2OGeneralizedLinearEstimator(family = \"poisson\", link = \"Log\", nfolds=5)\n",
    "glm_poisson.train(y=\"ClaimsCount\", x = h2o_train_c.names[1:-1], training_frame = h2o_train_c, validation_frame = h2o_valid_c, weights_column = \"Exposure\")"
   ]
  },
  {
   "cell_type": "code",
   "execution_count": 35,
   "metadata": {
    "colab": {
     "base_uri": "https://localhost:8080/",
     "height": 185
    },
    "colab_type": "code",
    "id": "10JsIABsBwxq",
    "outputId": "41570c96-7d42-4263-f843-311fcb0690d5"
   },
   "outputs": [
    {
     "name": "stdout",
     "output_type": "stream",
     "text": [
      "\n",
      "GLM Model: summary\n"
     ]
    },
    {
     "data": {
      "text/html": [
       "<div>\n",
       "<style scoped>\n",
       "    .dataframe tbody tr th:only-of-type {\n",
       "        vertical-align: middle;\n",
       "    }\n",
       "\n",
       "    .dataframe tbody tr th {\n",
       "        vertical-align: top;\n",
       "    }\n",
       "\n",
       "    .dataframe thead th {\n",
       "        text-align: right;\n",
       "    }\n",
       "</style>\n",
       "<table border=\"1\" class=\"dataframe\">\n",
       "  <thead>\n",
       "    <tr style=\"text-align: right;\">\n",
       "      <th></th>\n",
       "      <th></th>\n",
       "      <th>family</th>\n",
       "      <th>link</th>\n",
       "      <th>regularization</th>\n",
       "      <th>number_of_predictors_total</th>\n",
       "      <th>number_of_active_predictors</th>\n",
       "      <th>number_of_iterations</th>\n",
       "      <th>training_frame</th>\n",
       "    </tr>\n",
       "  </thead>\n",
       "  <tbody>\n",
       "    <tr>\n",
       "      <th>0</th>\n",
       "      <td></td>\n",
       "      <td>poisson</td>\n",
       "      <td>log</td>\n",
       "      <td>Elastic Net (alpha = 0.5, lambda = 1.336E-4 )</td>\n",
       "      <td>20</td>\n",
       "      <td>19</td>\n",
       "      <td>3</td>\n",
       "      <td>Key_Frame__upload_b0df0ce3088004bab26b069fd3be4f14.hex</td>\n",
       "    </tr>\n",
       "  </tbody>\n",
       "</table>\n",
       "</div>"
      ],
      "text/plain": [
       "      family link                                 regularization  \\\n",
       "0    poisson  log  Elastic Net (alpha = 0.5, lambda = 1.336E-4 )   \n",
       "\n",
       "   number_of_predictors_total number_of_active_predictors  \\\n",
       "0                          20                          19   \n",
       "\n",
       "   number_of_iterations  \\\n",
       "0                     3   \n",
       "\n",
       "                                           training_frame  \n",
       "0  Key_Frame__upload_b0df0ce3088004bab26b069fd3be4f14.hex  "
      ]
     },
     "metadata": {},
     "output_type": "display_data"
    },
    {
     "data": {
      "text/plain": []
     },
     "execution_count": 35,
     "metadata": {},
     "output_type": "execute_result"
    }
   ],
   "source": [
    "# Параметры модели: распределение, функция связи, гиперпараметры регуляризации, количество использованных объясняющих переменных\n",
    "\n",
    "glm_poisson.summary()"
   ]
  },
  {
   "cell_type": "code",
   "execution_count": 36,
   "metadata": {
    "colab": {
     "base_uri": "https://localhost:8080/",
     "height": 297
    },
    "colab_type": "code",
    "id": "tKL0w-LECQ2G",
    "outputId": "5a7a9829-3754-49fb-e0de-315baa3ad015"
   },
   "outputs": [
    {
     "data": {
      "text/html": [
       "<div>\n",
       "<style scoped>\n",
       "    .dataframe tbody tr th:only-of-type {\n",
       "        vertical-align: middle;\n",
       "    }\n",
       "\n",
       "    .dataframe tbody tr th {\n",
       "        vertical-align: top;\n",
       "    }\n",
       "\n",
       "    .dataframe thead th {\n",
       "        text-align: right;\n",
       "    }\n",
       "</style>\n",
       "<table border=\"1\" class=\"dataframe\">\n",
       "  <thead>\n",
       "    <tr style=\"text-align: right;\">\n",
       "      <th></th>\n",
       "      <th></th>\n",
       "      <th>mean</th>\n",
       "      <th>sd</th>\n",
       "      <th>cv_1_valid</th>\n",
       "      <th>cv_2_valid</th>\n",
       "      <th>cv_3_valid</th>\n",
       "      <th>cv_4_valid</th>\n",
       "      <th>cv_5_valid</th>\n",
       "    </tr>\n",
       "  </thead>\n",
       "  <tbody>\n",
       "    <tr>\n",
       "      <th>0</th>\n",
       "      <td>mae</td>\n",
       "      <td>0.50323576</td>\n",
       "      <td>0.0074124993</td>\n",
       "      <td>0.4953819</td>\n",
       "      <td>0.51028115</td>\n",
       "      <td>0.5085144</td>\n",
       "      <td>0.49505913</td>\n",
       "      <td>0.50694233</td>\n",
       "    </tr>\n",
       "    <tr>\n",
       "      <th>1</th>\n",
       "      <td>mean_residual_deviance</td>\n",
       "      <td>1.244299</td>\n",
       "      <td>0.031368703</td>\n",
       "      <td>1.2101665</td>\n",
       "      <td>1.2829672</td>\n",
       "      <td>1.2589375</td>\n",
       "      <td>1.2137644</td>\n",
       "      <td>1.2556598</td>\n",
       "    </tr>\n",
       "    <tr>\n",
       "      <th>2</th>\n",
       "      <td>mse</td>\n",
       "      <td>0.75438577</td>\n",
       "      <td>0.03210797</td>\n",
       "      <td>0.7221622</td>\n",
       "      <td>0.7958231</td>\n",
       "      <td>0.7715566</td>\n",
       "      <td>0.72214925</td>\n",
       "      <td>0.7602377</td>\n",
       "    </tr>\n",
       "    <tr>\n",
       "      <th>3</th>\n",
       "      <td>null_deviance</td>\n",
       "      <td>9087.595</td>\n",
       "      <td>245.73228</td>\n",
       "      <td>8907.805</td>\n",
       "      <td>9426.777</td>\n",
       "      <td>9197.623</td>\n",
       "      <td>8801.609</td>\n",
       "      <td>9104.161</td>\n",
       "    </tr>\n",
       "    <tr>\n",
       "      <th>4</th>\n",
       "      <td>r2</td>\n",
       "      <td>0.0115679335</td>\n",
       "      <td>0.0029023488</td>\n",
       "      <td>0.014032293</td>\n",
       "      <td>0.0069191745</td>\n",
       "      <td>0.013358548</td>\n",
       "      <td>0.01059721</td>\n",
       "      <td>0.012932439</td>\n",
       "    </tr>\n",
       "    <tr>\n",
       "      <th>5</th>\n",
       "      <td>residual_deviance</td>\n",
       "      <td>8873.306</td>\n",
       "      <td>258.82422</td>\n",
       "      <td>8677.4795</td>\n",
       "      <td>9245.787</td>\n",
       "      <td>8968.048</td>\n",
       "      <td>8587.498</td>\n",
       "      <td>8887.717</td>\n",
       "    </tr>\n",
       "    <tr>\n",
       "      <th>6</th>\n",
       "      <td>rmse</td>\n",
       "      <td>0.86839664</td>\n",
       "      <td>0.01847504</td>\n",
       "      <td>0.84980124</td>\n",
       "      <td>0.8920892</td>\n",
       "      <td>0.8783829</td>\n",
       "      <td>0.8497936</td>\n",
       "      <td>0.8719161</td>\n",
       "    </tr>\n",
       "    <tr>\n",
       "      <th>7</th>\n",
       "      <td>rmsle</td>\n",
       "      <td>0.4102047</td>\n",
       "      <td>0.0051199542</td>\n",
       "      <td>0.40449938</td>\n",
       "      <td>0.41596135</td>\n",
       "      <td>0.4129449</td>\n",
       "      <td>0.4050833</td>\n",
       "      <td>0.41253462</td>\n",
       "    </tr>\n",
       "  </tbody>\n",
       "</table>\n",
       "</div>"
      ],
      "text/plain": [
       "                                   mean            sd   cv_1_valid  \\\n",
       "0                     mae    0.50323576  0.0074124993    0.4953819   \n",
       "1  mean_residual_deviance      1.244299   0.031368703    1.2101665   \n",
       "2                     mse    0.75438577    0.03210797    0.7221622   \n",
       "3           null_deviance      9087.595     245.73228     8907.805   \n",
       "4                      r2  0.0115679335  0.0029023488  0.014032293   \n",
       "5       residual_deviance      8873.306     258.82422    8677.4795   \n",
       "6                    rmse    0.86839664    0.01847504   0.84980124   \n",
       "7                   rmsle     0.4102047  0.0051199542   0.40449938   \n",
       "\n",
       "     cv_2_valid   cv_3_valid  cv_4_valid   cv_5_valid  \n",
       "0    0.51028115    0.5085144  0.49505913   0.50694233  \n",
       "1     1.2829672    1.2589375   1.2137644    1.2556598  \n",
       "2     0.7958231    0.7715566  0.72214925    0.7602377  \n",
       "3      9426.777     9197.623    8801.609     9104.161  \n",
       "4  0.0069191745  0.013358548  0.01059721  0.012932439  \n",
       "5      9245.787     8968.048    8587.498     8887.717  \n",
       "6     0.8920892    0.8783829   0.8497936    0.8719161  \n",
       "7    0.41596135    0.4129449   0.4050833   0.41253462  "
      ]
     },
     "execution_count": 36,
     "metadata": {},
     "output_type": "execute_result"
    }
   ],
   "source": [
    "# Метрики качества модели - по всем данным и на кросс-валидации\n",
    "\n",
    "glm_poisson.cross_validation_metrics_summary().as_data_frame()"
   ]
  },
  {
   "cell_type": "code",
   "execution_count": 37,
   "metadata": {
    "colab": {
     "base_uri": "https://localhost:8080/",
     "height": 700
    },
    "colab_type": "code",
    "id": "vImto5eTCmzi",
    "outputId": "bf4343ec-8925-4854-82c5-bcc5bb37c805"
   },
   "outputs": [
    {
     "data": {
      "text/html": [
       "<div>\n",
       "<style scoped>\n",
       "    .dataframe tbody tr th:only-of-type {\n",
       "        vertical-align: middle;\n",
       "    }\n",
       "\n",
       "    .dataframe tbody tr th {\n",
       "        vertical-align: top;\n",
       "    }\n",
       "\n",
       "    .dataframe thead th {\n",
       "        text-align: right;\n",
       "    }\n",
       "</style>\n",
       "<table border=\"1\" class=\"dataframe\">\n",
       "  <thead>\n",
       "    <tr style=\"text-align: right;\">\n",
       "      <th></th>\n",
       "      <th>names</th>\n",
       "      <th>coefficients</th>\n",
       "      <th>standardized_coefficients</th>\n",
       "    </tr>\n",
       "  </thead>\n",
       "  <tbody>\n",
       "    <tr>\n",
       "      <th>0</th>\n",
       "      <td>Intercept</td>\n",
       "      <td>-2.220675</td>\n",
       "      <td>-1.285319</td>\n",
       "    </tr>\n",
       "    <tr>\n",
       "      <th>1</th>\n",
       "      <td>LicAge</td>\n",
       "      <td>0.000194</td>\n",
       "      <td>0.030931</td>\n",
       "    </tr>\n",
       "    <tr>\n",
       "      <th>2</th>\n",
       "      <td>Gender</td>\n",
       "      <td>0.003870</td>\n",
       "      <td>0.001874</td>\n",
       "    </tr>\n",
       "    <tr>\n",
       "      <th>3</th>\n",
       "      <td>MariStat</td>\n",
       "      <td>-0.115084</td>\n",
       "      <td>-0.041152</td>\n",
       "    </tr>\n",
       "    <tr>\n",
       "      <th>4</th>\n",
       "      <td>DrivAge</td>\n",
       "      <td>0.004924</td>\n",
       "      <td>0.073696</td>\n",
       "    </tr>\n",
       "    <tr>\n",
       "      <th>5</th>\n",
       "      <td>HasKmLimit</td>\n",
       "      <td>-0.467990</td>\n",
       "      <td>-0.145415</td>\n",
       "    </tr>\n",
       "    <tr>\n",
       "      <th>6</th>\n",
       "      <td>BonusMalus</td>\n",
       "      <td>0.012914</td>\n",
       "      <td>0.194712</td>\n",
       "    </tr>\n",
       "    <tr>\n",
       "      <th>7</th>\n",
       "      <td>OutUseNb</td>\n",
       "      <td>0.084635</td>\n",
       "      <td>0.056781</td>\n",
       "    </tr>\n",
       "    <tr>\n",
       "      <th>8</th>\n",
       "      <td>RiskArea</td>\n",
       "      <td>0.015406</td>\n",
       "      <td>0.034085</td>\n",
       "    </tr>\n",
       "    <tr>\n",
       "      <th>9</th>\n",
       "      <td>VehUsage_Private</td>\n",
       "      <td>-0.200181</td>\n",
       "      <td>-0.094939</td>\n",
       "    </tr>\n",
       "    <tr>\n",
       "      <th>10</th>\n",
       "      <td>VehUsage_Private+trip to office</td>\n",
       "      <td>0.000000</td>\n",
       "      <td>0.000000</td>\n",
       "    </tr>\n",
       "    <tr>\n",
       "      <th>11</th>\n",
       "      <td>VehUsage_Professional</td>\n",
       "      <td>0.306199</td>\n",
       "      <td>0.102734</td>\n",
       "    </tr>\n",
       "    <tr>\n",
       "      <th>12</th>\n",
       "      <td>VehUsage_Professional run</td>\n",
       "      <td>0.436824</td>\n",
       "      <td>0.059233</td>\n",
       "    </tr>\n",
       "    <tr>\n",
       "      <th>13</th>\n",
       "      <td>SocioCateg_CSP1</td>\n",
       "      <td>-0.111144</td>\n",
       "      <td>-0.017234</td>\n",
       "    </tr>\n",
       "    <tr>\n",
       "      <th>14</th>\n",
       "      <td>SocioCateg_CSP2</td>\n",
       "      <td>-0.277864</td>\n",
       "      <td>-0.047303</td>\n",
       "    </tr>\n",
       "    <tr>\n",
       "      <th>15</th>\n",
       "      <td>SocioCateg_CSP3</td>\n",
       "      <td>0.321790</td>\n",
       "      <td>0.033530</td>\n",
       "    </tr>\n",
       "    <tr>\n",
       "      <th>16</th>\n",
       "      <td>SocioCateg_CSP4</td>\n",
       "      <td>0.036640</td>\n",
       "      <td>0.009263</td>\n",
       "    </tr>\n",
       "    <tr>\n",
       "      <th>17</th>\n",
       "      <td>SocioCateg_CSP5</td>\n",
       "      <td>-0.021179</td>\n",
       "      <td>-0.010149</td>\n",
       "    </tr>\n",
       "    <tr>\n",
       "      <th>18</th>\n",
       "      <td>SocioCateg_CSP6</td>\n",
       "      <td>0.076750</td>\n",
       "      <td>0.031951</td>\n",
       "    </tr>\n",
       "    <tr>\n",
       "      <th>19</th>\n",
       "      <td>SocioCateg_CSP7</td>\n",
       "      <td>-0.422138</td>\n",
       "      <td>-0.004134</td>\n",
       "    </tr>\n",
       "    <tr>\n",
       "      <th>20</th>\n",
       "      <td>DrivAgeSq</td>\n",
       "      <td>-0.000069</td>\n",
       "      <td>-0.107275</td>\n",
       "    </tr>\n",
       "  </tbody>\n",
       "</table>\n",
       "</div>"
      ],
      "text/plain": [
       "                              names  coefficients  standardized_coefficients\n",
       "0                         Intercept     -2.220675                  -1.285319\n",
       "1                            LicAge      0.000194                   0.030931\n",
       "2                            Gender      0.003870                   0.001874\n",
       "3                          MariStat     -0.115084                  -0.041152\n",
       "4                           DrivAge      0.004924                   0.073696\n",
       "5                        HasKmLimit     -0.467990                  -0.145415\n",
       "6                        BonusMalus      0.012914                   0.194712\n",
       "7                          OutUseNb      0.084635                   0.056781\n",
       "8                          RiskArea      0.015406                   0.034085\n",
       "9                  VehUsage_Private     -0.200181                  -0.094939\n",
       "10  VehUsage_Private+trip to office      0.000000                   0.000000\n",
       "11            VehUsage_Professional      0.306199                   0.102734\n",
       "12        VehUsage_Professional run      0.436824                   0.059233\n",
       "13                  SocioCateg_CSP1     -0.111144                  -0.017234\n",
       "14                  SocioCateg_CSP2     -0.277864                  -0.047303\n",
       "15                  SocioCateg_CSP3      0.321790                   0.033530\n",
       "16                  SocioCateg_CSP4      0.036640                   0.009263\n",
       "17                  SocioCateg_CSP5     -0.021179                  -0.010149\n",
       "18                  SocioCateg_CSP6      0.076750                   0.031951\n",
       "19                  SocioCateg_CSP7     -0.422138                  -0.004134\n",
       "20                        DrivAgeSq     -0.000069                  -0.107275"
      ]
     },
     "execution_count": 37,
     "metadata": {},
     "output_type": "execute_result"
    }
   ],
   "source": [
    "# Таблица коэффициентов модели (в зависимости от модели могут выводиться также стандартная ошибка, z-score и p-value)\n",
    "\n",
    "glm_poisson._model_json['output']['coefficients_table'].as_data_frame()"
   ]
  },
  {
   "cell_type": "code",
   "execution_count": 38,
   "metadata": {
    "colab": {
     "base_uri": "https://localhost:8080/",
     "height": 700
    },
    "colab_type": "code",
    "id": "Z6CZpc6WAx-d",
    "outputId": "bd8bb22b-7259-4a66-d9da-67941a03a451"
   },
   "outputs": [
    {
     "data": {
      "text/html": [
       "<div>\n",
       "<style scoped>\n",
       "    .dataframe tbody tr th:only-of-type {\n",
       "        vertical-align: middle;\n",
       "    }\n",
       "\n",
       "    .dataframe tbody tr th {\n",
       "        vertical-align: top;\n",
       "    }\n",
       "\n",
       "    .dataframe thead th {\n",
       "        text-align: right;\n",
       "    }\n",
       "</style>\n",
       "<table border=\"1\" class=\"dataframe\">\n",
       "  <thead>\n",
       "    <tr style=\"text-align: right;\">\n",
       "      <th></th>\n",
       "      <th>overall</th>\n",
       "      <th>0</th>\n",
       "      <th>1</th>\n",
       "      <th>2</th>\n",
       "      <th>3</th>\n",
       "      <th>4</th>\n",
       "    </tr>\n",
       "  </thead>\n",
       "  <tbody>\n",
       "    <tr>\n",
       "      <th>Intercept</th>\n",
       "      <td>-1.28532</td>\n",
       "      <td>-1.27552</td>\n",
       "      <td>-1.29591</td>\n",
       "      <td>-1.28970</td>\n",
       "      <td>-1.27679</td>\n",
       "      <td>-1.29037</td>\n",
       "    </tr>\n",
       "    <tr>\n",
       "      <th>LicAge</th>\n",
       "      <td>0.03093</td>\n",
       "      <td>0.02982</td>\n",
       "      <td>0.06230</td>\n",
       "      <td>0.03682</td>\n",
       "      <td>0.01968</td>\n",
       "      <td>0.01301</td>\n",
       "    </tr>\n",
       "    <tr>\n",
       "      <th>Gender</th>\n",
       "      <td>0.00187</td>\n",
       "      <td>-0.00467</td>\n",
       "      <td>0.01120</td>\n",
       "      <td>-0.00201</td>\n",
       "      <td>0.00278</td>\n",
       "      <td>0.00302</td>\n",
       "    </tr>\n",
       "    <tr>\n",
       "      <th>MariStat</th>\n",
       "      <td>-0.04115</td>\n",
       "      <td>-0.04187</td>\n",
       "      <td>-0.03687</td>\n",
       "      <td>-0.05531</td>\n",
       "      <td>-0.03548</td>\n",
       "      <td>-0.03872</td>\n",
       "    </tr>\n",
       "    <tr>\n",
       "      <th>DrivAge</th>\n",
       "      <td>0.07370</td>\n",
       "      <td>0.08092</td>\n",
       "      <td>0.05591</td>\n",
       "      <td>0.01687</td>\n",
       "      <td>0.01223</td>\n",
       "      <td>0.10601</td>\n",
       "    </tr>\n",
       "    <tr>\n",
       "      <th>HasKmLimit</th>\n",
       "      <td>-0.14541</td>\n",
       "      <td>-0.15923</td>\n",
       "      <td>-0.14259</td>\n",
       "      <td>-0.14073</td>\n",
       "      <td>-0.14403</td>\n",
       "      <td>-0.14042</td>\n",
       "    </tr>\n",
       "    <tr>\n",
       "      <th>BonusMalus</th>\n",
       "      <td>0.19471</td>\n",
       "      <td>0.18926</td>\n",
       "      <td>0.21208</td>\n",
       "      <td>0.18363</td>\n",
       "      <td>0.19406</td>\n",
       "      <td>0.19070</td>\n",
       "    </tr>\n",
       "    <tr>\n",
       "      <th>OutUseNb</th>\n",
       "      <td>0.05678</td>\n",
       "      <td>0.05584</td>\n",
       "      <td>0.05799</td>\n",
       "      <td>0.05985</td>\n",
       "      <td>0.05394</td>\n",
       "      <td>0.05651</td>\n",
       "    </tr>\n",
       "    <tr>\n",
       "      <th>RiskArea</th>\n",
       "      <td>0.03408</td>\n",
       "      <td>0.03212</td>\n",
       "      <td>0.03526</td>\n",
       "      <td>0.02776</td>\n",
       "      <td>0.02990</td>\n",
       "      <td>0.04565</td>\n",
       "    </tr>\n",
       "    <tr>\n",
       "      <th>VehUsage_Private</th>\n",
       "      <td>-0.09494</td>\n",
       "      <td>-0.08280</td>\n",
       "      <td>-0.09495</td>\n",
       "      <td>-0.10395</td>\n",
       "      <td>-0.08172</td>\n",
       "      <td>-0.11011</td>\n",
       "    </tr>\n",
       "    <tr>\n",
       "      <th>VehUsage_Private+trip to office</th>\n",
       "      <td>0.00000</td>\n",
       "      <td>0.00000</td>\n",
       "      <td>0.00000</td>\n",
       "      <td>0.00000</td>\n",
       "      <td>0.00129</td>\n",
       "      <td>0.00000</td>\n",
       "    </tr>\n",
       "    <tr>\n",
       "      <th>VehUsage_Professional</th>\n",
       "      <td>0.10273</td>\n",
       "      <td>0.10445</td>\n",
       "      <td>0.10915</td>\n",
       "      <td>0.08665</td>\n",
       "      <td>0.11285</td>\n",
       "      <td>0.10328</td>\n",
       "    </tr>\n",
       "    <tr>\n",
       "      <th>VehUsage_Professional run</th>\n",
       "      <td>0.05923</td>\n",
       "      <td>0.05834</td>\n",
       "      <td>0.06392</td>\n",
       "      <td>0.06383</td>\n",
       "      <td>0.05585</td>\n",
       "      <td>0.05486</td>\n",
       "    </tr>\n",
       "    <tr>\n",
       "      <th>SocioCateg_CSP1</th>\n",
       "      <td>-0.01723</td>\n",
       "      <td>-0.02666</td>\n",
       "      <td>-0.03014</td>\n",
       "      <td>-0.01094</td>\n",
       "      <td>-0.01739</td>\n",
       "      <td>-0.01754</td>\n",
       "    </tr>\n",
       "    <tr>\n",
       "      <th>SocioCateg_CSP2</th>\n",
       "      <td>-0.04730</td>\n",
       "      <td>-0.05316</td>\n",
       "      <td>-0.04420</td>\n",
       "      <td>-0.05559</td>\n",
       "      <td>-0.06649</td>\n",
       "      <td>-0.03772</td>\n",
       "    </tr>\n",
       "    <tr>\n",
       "      <th>SocioCateg_CSP3</th>\n",
       "      <td>0.03353</td>\n",
       "      <td>0.03402</td>\n",
       "      <td>0.03652</td>\n",
       "      <td>0.02389</td>\n",
       "      <td>0.03384</td>\n",
       "      <td>0.02785</td>\n",
       "    </tr>\n",
       "    <tr>\n",
       "      <th>SocioCateg_CSP4</th>\n",
       "      <td>0.00926</td>\n",
       "      <td>0.00000</td>\n",
       "      <td>0.00663</td>\n",
       "      <td>0.00280</td>\n",
       "      <td>0.00954</td>\n",
       "      <td>0.00096</td>\n",
       "    </tr>\n",
       "    <tr>\n",
       "      <th>SocioCateg_CSP5</th>\n",
       "      <td>-0.01015</td>\n",
       "      <td>-0.02342</td>\n",
       "      <td>-0.01715</td>\n",
       "      <td>-0.03540</td>\n",
       "      <td>-0.00205</td>\n",
       "      <td>-0.02134</td>\n",
       "    </tr>\n",
       "    <tr>\n",
       "      <th>SocioCateg_CSP6</th>\n",
       "      <td>0.03195</td>\n",
       "      <td>0.01756</td>\n",
       "      <td>0.02420</td>\n",
       "      <td>0.01791</td>\n",
       "      <td>0.01309</td>\n",
       "      <td>0.03727</td>\n",
       "    </tr>\n",
       "    <tr>\n",
       "      <th>SocioCateg_CSP7</th>\n",
       "      <td>-0.00413</td>\n",
       "      <td>-0.00357</td>\n",
       "      <td>0.00248</td>\n",
       "      <td>-0.03312</td>\n",
       "      <td>-0.00164</td>\n",
       "      <td>-0.00450</td>\n",
       "    </tr>\n",
       "    <tr>\n",
       "      <th>DrivAgeSq</th>\n",
       "      <td>-0.10728</td>\n",
       "      <td>-0.12064</td>\n",
       "      <td>-0.09125</td>\n",
       "      <td>-0.07708</td>\n",
       "      <td>-0.02218</td>\n",
       "      <td>-0.13044</td>\n",
       "    </tr>\n",
       "  </tbody>\n",
       "</table>\n",
       "</div>"
      ],
      "text/plain": [
       "                                 overall        0        1        2        3  \\\n",
       "Intercept                       -1.28532 -1.27552 -1.29591 -1.28970 -1.27679   \n",
       "LicAge                           0.03093  0.02982  0.06230  0.03682  0.01968   \n",
       "Gender                           0.00187 -0.00467  0.01120 -0.00201  0.00278   \n",
       "MariStat                        -0.04115 -0.04187 -0.03687 -0.05531 -0.03548   \n",
       "DrivAge                          0.07370  0.08092  0.05591  0.01687  0.01223   \n",
       "HasKmLimit                      -0.14541 -0.15923 -0.14259 -0.14073 -0.14403   \n",
       "BonusMalus                       0.19471  0.18926  0.21208  0.18363  0.19406   \n",
       "OutUseNb                         0.05678  0.05584  0.05799  0.05985  0.05394   \n",
       "RiskArea                         0.03408  0.03212  0.03526  0.02776  0.02990   \n",
       "VehUsage_Private                -0.09494 -0.08280 -0.09495 -0.10395 -0.08172   \n",
       "VehUsage_Private+trip to office  0.00000  0.00000  0.00000  0.00000  0.00129   \n",
       "VehUsage_Professional            0.10273  0.10445  0.10915  0.08665  0.11285   \n",
       "VehUsage_Professional run        0.05923  0.05834  0.06392  0.06383  0.05585   \n",
       "SocioCateg_CSP1                 -0.01723 -0.02666 -0.03014 -0.01094 -0.01739   \n",
       "SocioCateg_CSP2                 -0.04730 -0.05316 -0.04420 -0.05559 -0.06649   \n",
       "SocioCateg_CSP3                  0.03353  0.03402  0.03652  0.02389  0.03384   \n",
       "SocioCateg_CSP4                  0.00926  0.00000  0.00663  0.00280  0.00954   \n",
       "SocioCateg_CSP5                 -0.01015 -0.02342 -0.01715 -0.03540 -0.00205   \n",
       "SocioCateg_CSP6                  0.03195  0.01756  0.02420  0.01791  0.01309   \n",
       "SocioCateg_CSP7                 -0.00413 -0.00357  0.00248 -0.03312 -0.00164   \n",
       "DrivAgeSq                       -0.10728 -0.12064 -0.09125 -0.07708 -0.02218   \n",
       "\n",
       "                                       4  \n",
       "Intercept                       -1.29037  \n",
       "LicAge                           0.01301  \n",
       "Gender                           0.00302  \n",
       "MariStat                        -0.03872  \n",
       "DrivAge                          0.10601  \n",
       "HasKmLimit                      -0.14042  \n",
       "BonusMalus                       0.19070  \n",
       "OutUseNb                         0.05651  \n",
       "RiskArea                         0.04565  \n",
       "VehUsage_Private                -0.11011  \n",
       "VehUsage_Private+trip to office  0.00000  \n",
       "VehUsage_Professional            0.10328  \n",
       "VehUsage_Professional run        0.05486  \n",
       "SocioCateg_CSP1                 -0.01754  \n",
       "SocioCateg_CSP2                 -0.03772  \n",
       "SocioCateg_CSP3                  0.02785  \n",
       "SocioCateg_CSP4                  0.00096  \n",
       "SocioCateg_CSP5                 -0.02134  \n",
       "SocioCateg_CSP6                  0.03727  \n",
       "SocioCateg_CSP7                 -0.00450  \n",
       "DrivAgeSq                       -0.13044  "
      ]
     },
     "execution_count": 38,
     "metadata": {},
     "output_type": "execute_result"
    }
   ],
   "source": [
    "# Таблица нормированных коэффициентов по всем данным и на кросс-валидации\n",
    "\n",
    "pmodels = {}\n",
    "pmodels['overall'] = glm_poisson.coef_norm()\n",
    "for x in range(len(glm_poisson.cross_validation_models())):\n",
    "    pmodels[x] = glm_poisson.cross_validation_models()[x].coef_norm()\n",
    "pd.DataFrame.from_dict(pmodels).round(5)"
   ]
  },
  {
   "cell_type": "code",
   "execution_count": 39,
   "metadata": {
    "colab": {
     "base_uri": "https://localhost:8080/",
     "height": 68
    },
    "colab_type": "code",
    "id": "RiHV0aTKHjdK",
    "outputId": "c964896f-5048-42e8-fd23-f6e6c4c03cc8"
   },
   "outputs": [
    {
     "name": "stdout",
     "output_type": "stream",
     "text": [
      "glm prediction progress: |████████████████████████████████████████████████| 100%\n",
      "glm prediction progress: |████████████████████████████████████████████████| 100%\n",
      "glm prediction progress: |████████████████████████████████████████████████| 100%\n"
     ]
    }
   ],
   "source": [
    "# Построение прогнозных значений для обучающей, валидационной и тестовой выборок\n",
    "\n",
    "c_train_pred = glm_poisson.predict(h2o_train_c).as_data_frame()\n",
    "c_valid_pred = glm_poisson.predict(h2o_valid_c).as_data_frame()\n",
    "c_test_pred = glm_poisson.predict(h2o_test_c).as_data_frame()"
   ]
  },
  {
   "cell_type": "code",
   "execution_count": 40,
   "metadata": {
    "colab": {},
    "colab_type": "code",
    "id": "BL8JJbnVTrY5"
   },
   "outputs": [],
   "source": [
    "# Сохранение обученной модели\n",
    "\n",
    "model_glm_poisson = h2o.save_model(model=glm_poisson, path=path, force=True)"
   ]
  },
  {
   "cell_type": "code",
   "execution_count": 41,
   "metadata": {
    "colab": {
     "base_uri": "https://localhost:8080/",
     "height": 34
    },
    "colab_type": "code",
    "id": "bsXU4eF4T5cX",
    "outputId": "900beefb-24ec-49d8-d0ac-3d4caa477025"
   },
   "outputs": [
    {
     "data": {
      "text/plain": [
       "'C:\\\\Users\\\\user\\\\Documents\\\\mydocs\\\\gb_timeseries\\\\insurance\\\\data\\\\GLM_model_python_1590838893368_1'"
      ]
     },
     "execution_count": 41,
     "metadata": {},
     "output_type": "execute_result"
    }
   ],
   "source": [
    "model_glm_poisson"
   ]
  },
  {
   "cell_type": "markdown",
   "metadata": {
    "colab_type": "text",
    "id": "8nmnj56EM9gK"
   },
   "source": [
    "### Построение GLM для среднего убытка"
   ]
  },
  {
   "cell_type": "code",
   "execution_count": 42,
   "metadata": {
    "colab": {
     "base_uri": "https://localhost:8080/",
     "height": 68
    },
    "colab_type": "code",
    "id": "9u4TIE54NAeo",
    "outputId": "2393ae7a-80c7-45aa-a024-bb3f14be32de"
   },
   "outputs": [
    {
     "name": "stdout",
     "output_type": "stream",
     "text": [
      "Parse progress: |█████████████████████████████████████████████████████████| 100%\n",
      "Parse progress: |█████████████████████████████████████████████████████████| 100%\n",
      "Parse progress: |█████████████████████████████████████████████████████████| 100%\n"
     ]
    }
   ],
   "source": [
    "# Преобразование в H2O-Frame\n",
    "\n",
    "h2o_train_ac = h2o.H2OFrame(pd.concat([x_train_ac, y_train_ac], axis=1))\n",
    "h2o_valid_ac = h2o.H2OFrame(pd.concat([x_valid_ac, y_valid_ac], axis=1))\n",
    "h2o_test_ac = h2o.H2OFrame(pd.concat([x_test_ac, y_test_ac], axis=1))"
   ]
  },
  {
   "cell_type": "code",
   "execution_count": 43,
   "metadata": {
    "colab": {
     "base_uri": "https://localhost:8080/",
     "height": 34
    },
    "colab_type": "code",
    "id": "O4ZJ3o25EKnP",
    "outputId": "3d12f421-86df-479d-ba85-e2473b1b90d0"
   },
   "outputs": [
    {
     "name": "stdout",
     "output_type": "stream",
     "text": [
      "glm Model Build progress: |███████████████████████████████████████████████| 100%\n"
     ]
    }
   ],
   "source": [
    "# Инициализируем и обучим GLM модель c кросс-валидацией\n",
    "\n",
    "glm_gamma = H2OGeneralizedLinearEstimator(family = \"gamma\", link = \"Log\", nfolds=5)\n",
    "glm_gamma.train(y=\"AvgClaim\", x = h2o_train_ac.names[1:-1], training_frame = h2o_train_ac, validation_frame = h2o_valid_ac, weights_column = \"Exposure\")"
   ]
  },
  {
   "cell_type": "code",
   "execution_count": 44,
   "metadata": {
    "colab": {
     "base_uri": "https://localhost:8080/",
     "height": 185
    },
    "colab_type": "code",
    "id": "tAC4dIdJEKXl",
    "outputId": "76087959-7966-484c-a3d1-287ec6cccae0"
   },
   "outputs": [
    {
     "name": "stdout",
     "output_type": "stream",
     "text": [
      "\n",
      "GLM Model: summary\n"
     ]
    },
    {
     "data": {
      "text/html": [
       "<div>\n",
       "<style scoped>\n",
       "    .dataframe tbody tr th:only-of-type {\n",
       "        vertical-align: middle;\n",
       "    }\n",
       "\n",
       "    .dataframe tbody tr th {\n",
       "        vertical-align: top;\n",
       "    }\n",
       "\n",
       "    .dataframe thead th {\n",
       "        text-align: right;\n",
       "    }\n",
       "</style>\n",
       "<table border=\"1\" class=\"dataframe\">\n",
       "  <thead>\n",
       "    <tr style=\"text-align: right;\">\n",
       "      <th></th>\n",
       "      <th></th>\n",
       "      <th>family</th>\n",
       "      <th>link</th>\n",
       "      <th>regularization</th>\n",
       "      <th>number_of_predictors_total</th>\n",
       "      <th>number_of_active_predictors</th>\n",
       "      <th>number_of_iterations</th>\n",
       "      <th>training_frame</th>\n",
       "    </tr>\n",
       "  </thead>\n",
       "  <tbody>\n",
       "    <tr>\n",
       "      <th>0</th>\n",
       "      <td></td>\n",
       "      <td>gamma</td>\n",
       "      <td>log</td>\n",
       "      <td>Elastic Net (alpha = 0.5, lambda = 1.784E-4 )</td>\n",
       "      <td>20</td>\n",
       "      <td>18</td>\n",
       "      <td>3</td>\n",
       "      <td>Key_Frame__upload_a96337b52ad6d5c7dbc35f8593a49af.hex</td>\n",
       "    </tr>\n",
       "  </tbody>\n",
       "</table>\n",
       "</div>"
      ],
      "text/plain": [
       "    family link                                 regularization  \\\n",
       "0    gamma  log  Elastic Net (alpha = 0.5, lambda = 1.784E-4 )   \n",
       "\n",
       "   number_of_predictors_total number_of_active_predictors  \\\n",
       "0                          20                          18   \n",
       "\n",
       "   number_of_iterations                                         training_frame  \n",
       "0                     3  Key_Frame__upload_a96337b52ad6d5c7dbc35f8593a49af.hex  "
      ]
     },
     "metadata": {},
     "output_type": "display_data"
    },
    {
     "data": {
      "text/plain": []
     },
     "execution_count": 44,
     "metadata": {},
     "output_type": "execute_result"
    }
   ],
   "source": [
    "# Параметры модели: распределение, функция связи, гиперпараметры регуляризации, количество использованных объясняющих переменных\n",
    "\n",
    "glm_gamma.summary()"
   ]
  },
  {
   "cell_type": "code",
   "execution_count": 45,
   "metadata": {
    "colab": {
     "base_uri": "https://localhost:8080/",
     "height": 297
    },
    "colab_type": "code",
    "id": "NfRbZGBoE7vP",
    "outputId": "79bd3725-3be1-4961-fb09-3f886db1c452"
   },
   "outputs": [
    {
     "data": {
      "text/html": [
       "<div>\n",
       "<style scoped>\n",
       "    .dataframe tbody tr th:only-of-type {\n",
       "        vertical-align: middle;\n",
       "    }\n",
       "\n",
       "    .dataframe tbody tr th {\n",
       "        vertical-align: top;\n",
       "    }\n",
       "\n",
       "    .dataframe thead th {\n",
       "        text-align: right;\n",
       "    }\n",
       "</style>\n",
       "<table border=\"1\" class=\"dataframe\">\n",
       "  <thead>\n",
       "    <tr style=\"text-align: right;\">\n",
       "      <th></th>\n",
       "      <th></th>\n",
       "      <th>mean</th>\n",
       "      <th>sd</th>\n",
       "      <th>cv_1_valid</th>\n",
       "      <th>cv_2_valid</th>\n",
       "      <th>cv_3_valid</th>\n",
       "      <th>cv_4_valid</th>\n",
       "      <th>cv_5_valid</th>\n",
       "    </tr>\n",
       "  </thead>\n",
       "  <tbody>\n",
       "    <tr>\n",
       "      <th>0</th>\n",
       "      <td>mae</td>\n",
       "      <td>1043.8223</td>\n",
       "      <td>53.1856</td>\n",
       "      <td>1065.1582</td>\n",
       "      <td>1110.132</td>\n",
       "      <td>1065.2786</td>\n",
       "      <td>994.3021</td>\n",
       "      <td>984.2403</td>\n",
       "    </tr>\n",
       "    <tr>\n",
       "      <th>1</th>\n",
       "      <td>mean_residual_deviance</td>\n",
       "      <td>1.9528234</td>\n",
       "      <td>0.13956743</td>\n",
       "      <td>1.9961153</td>\n",
       "      <td>2.1382105</td>\n",
       "      <td>2.0029159</td>\n",
       "      <td>1.8010355</td>\n",
       "      <td>1.8258396</td>\n",
       "    </tr>\n",
       "    <tr>\n",
       "      <th>2</th>\n",
       "      <td>mse</td>\n",
       "      <td>7308743.5</td>\n",
       "      <td>5727651.0</td>\n",
       "      <td>7788960.0</td>\n",
       "      <td>5008284.0</td>\n",
       "      <td>1.7027224E7</td>\n",
       "      <td>3184620.2</td>\n",
       "      <td>3534627.8</td>\n",
       "    </tr>\n",
       "    <tr>\n",
       "      <th>3</th>\n",
       "      <td>null_deviance</td>\n",
       "      <td>1787.5765</td>\n",
       "      <td>117.99111</td>\n",
       "      <td>1828.1893</td>\n",
       "      <td>1932.1936</td>\n",
       "      <td>1842.5026</td>\n",
       "      <td>1642.3009</td>\n",
       "      <td>1692.6964</td>\n",
       "    </tr>\n",
       "    <tr>\n",
       "      <th>4</th>\n",
       "      <td>r2</td>\n",
       "      <td>-2.2197247E-4</td>\n",
       "      <td>0.0033800388</td>\n",
       "      <td>0.004452178</td>\n",
       "      <td>-0.0030361975</td>\n",
       "      <td>4.719732E-5</td>\n",
       "      <td>-0.0038934462</td>\n",
       "      <td>0.0013204062</td>\n",
       "    </tr>\n",
       "    <tr>\n",
       "      <th>5</th>\n",
       "      <td>residual_deviance</td>\n",
       "      <td>1782.9149</td>\n",
       "      <td>123.14168</td>\n",
       "      <td>1805.2908</td>\n",
       "      <td>1948.2776</td>\n",
       "      <td>1835.9548</td>\n",
       "      <td>1640.0571</td>\n",
       "      <td>1684.9944</td>\n",
       "    </tr>\n",
       "    <tr>\n",
       "      <th>6</th>\n",
       "      <td>rmse</td>\n",
       "      <td>2563.9614</td>\n",
       "      <td>958.41345</td>\n",
       "      <td>2790.8708</td>\n",
       "      <td>2237.9197</td>\n",
       "      <td>4126.406</td>\n",
       "      <td>1784.5504</td>\n",
       "      <td>1880.0605</td>\n",
       "    </tr>\n",
       "    <tr>\n",
       "      <th>7</th>\n",
       "      <td>rmsle</td>\n",
       "      <td>1.7128943</td>\n",
       "      <td>0.043696232</td>\n",
       "      <td>1.7285796</td>\n",
       "      <td>1.7794398</td>\n",
       "      <td>1.6954118</td>\n",
       "      <td>1.6637672</td>\n",
       "      <td>1.6972734</td>\n",
       "    </tr>\n",
       "  </tbody>\n",
       "</table>\n",
       "</div>"
      ],
      "text/plain": [
       "                                    mean            sd   cv_1_valid  \\\n",
       "0                     mae      1043.8223       53.1856    1065.1582   \n",
       "1  mean_residual_deviance      1.9528234    0.13956743    1.9961153   \n",
       "2                     mse      7308743.5     5727651.0    7788960.0   \n",
       "3           null_deviance      1787.5765     117.99111    1828.1893   \n",
       "4                      r2  -2.2197247E-4  0.0033800388  0.004452178   \n",
       "5       residual_deviance      1782.9149     123.14168    1805.2908   \n",
       "6                    rmse      2563.9614     958.41345    2790.8708   \n",
       "7                   rmsle      1.7128943   0.043696232    1.7285796   \n",
       "\n",
       "      cv_2_valid   cv_3_valid     cv_4_valid    cv_5_valid  \n",
       "0       1110.132    1065.2786       994.3021      984.2403  \n",
       "1      2.1382105    2.0029159      1.8010355     1.8258396  \n",
       "2      5008284.0  1.7027224E7      3184620.2     3534627.8  \n",
       "3      1932.1936    1842.5026      1642.3009     1692.6964  \n",
       "4  -0.0030361975  4.719732E-5  -0.0038934462  0.0013204062  \n",
       "5      1948.2776    1835.9548      1640.0571     1684.9944  \n",
       "6      2237.9197     4126.406      1784.5504     1880.0605  \n",
       "7      1.7794398    1.6954118      1.6637672     1.6972734  "
      ]
     },
     "execution_count": 45,
     "metadata": {},
     "output_type": "execute_result"
    }
   ],
   "source": [
    "# Метрики качества модели - по всем данным и на кросс-валидации\n",
    "\n",
    "glm_gamma.cross_validation_metrics_summary().as_data_frame()"
   ]
  },
  {
   "cell_type": "code",
   "execution_count": 46,
   "metadata": {
    "colab": {
     "base_uri": "https://localhost:8080/",
     "height": 700
    },
    "colab_type": "code",
    "id": "uHZ93uk_E7nZ",
    "outputId": "9df5750d-c65e-4825-ed70-78e6470de5b2"
   },
   "outputs": [
    {
     "data": {
      "text/html": [
       "<div>\n",
       "<style scoped>\n",
       "    .dataframe tbody tr th:only-of-type {\n",
       "        vertical-align: middle;\n",
       "    }\n",
       "\n",
       "    .dataframe tbody tr th {\n",
       "        vertical-align: top;\n",
       "    }\n",
       "\n",
       "    .dataframe thead th {\n",
       "        text-align: right;\n",
       "    }\n",
       "</style>\n",
       "<table border=\"1\" class=\"dataframe\">\n",
       "  <thead>\n",
       "    <tr style=\"text-align: right;\">\n",
       "      <th></th>\n",
       "      <th>names</th>\n",
       "      <th>coefficients</th>\n",
       "      <th>standardized_coefficients</th>\n",
       "    </tr>\n",
       "  </thead>\n",
       "  <tbody>\n",
       "    <tr>\n",
       "      <th>0</th>\n",
       "      <td>Intercept</td>\n",
       "      <td>7.447459</td>\n",
       "      <td>6.923914</td>\n",
       "    </tr>\n",
       "    <tr>\n",
       "      <th>1</th>\n",
       "      <td>LicAge</td>\n",
       "      <td>-0.000361</td>\n",
       "      <td>-0.057896</td>\n",
       "    </tr>\n",
       "    <tr>\n",
       "      <th>2</th>\n",
       "      <td>Gender</td>\n",
       "      <td>-0.044813</td>\n",
       "      <td>-0.021696</td>\n",
       "    </tr>\n",
       "    <tr>\n",
       "      <th>3</th>\n",
       "      <td>MariStat</td>\n",
       "      <td>0.152243</td>\n",
       "      <td>0.056025</td>\n",
       "    </tr>\n",
       "    <tr>\n",
       "      <th>4</th>\n",
       "      <td>DrivAge</td>\n",
       "      <td>-0.026294</td>\n",
       "      <td>-0.389649</td>\n",
       "    </tr>\n",
       "    <tr>\n",
       "      <th>5</th>\n",
       "      <td>HasKmLimit</td>\n",
       "      <td>-0.086212</td>\n",
       "      <td>-0.021160</td>\n",
       "    </tr>\n",
       "    <tr>\n",
       "      <th>6</th>\n",
       "      <td>BonusMalus</td>\n",
       "      <td>-0.003733</td>\n",
       "      <td>-0.062010</td>\n",
       "    </tr>\n",
       "    <tr>\n",
       "      <th>7</th>\n",
       "      <td>OutUseNb</td>\n",
       "      <td>0.005180</td>\n",
       "      <td>0.003776</td>\n",
       "    </tr>\n",
       "    <tr>\n",
       "      <th>8</th>\n",
       "      <td>RiskArea</td>\n",
       "      <td>0.040690</td>\n",
       "      <td>0.091382</td>\n",
       "    </tr>\n",
       "    <tr>\n",
       "      <th>9</th>\n",
       "      <td>VehUsage_Private</td>\n",
       "      <td>0.044360</td>\n",
       "      <td>0.020112</td>\n",
       "    </tr>\n",
       "    <tr>\n",
       "      <th>10</th>\n",
       "      <td>VehUsage_Private+trip to office</td>\n",
       "      <td>0.000000</td>\n",
       "      <td>0.000000</td>\n",
       "    </tr>\n",
       "    <tr>\n",
       "      <th>11</th>\n",
       "      <td>VehUsage_Professional</td>\n",
       "      <td>-0.001817</td>\n",
       "      <td>-0.000670</td>\n",
       "    </tr>\n",
       "    <tr>\n",
       "      <th>12</th>\n",
       "      <td>VehUsage_Professional run</td>\n",
       "      <td>-0.252844</td>\n",
       "      <td>-0.039146</td>\n",
       "    </tr>\n",
       "    <tr>\n",
       "      <th>13</th>\n",
       "      <td>SocioCateg_CSP1</td>\n",
       "      <td>-0.032338</td>\n",
       "      <td>-0.005088</td>\n",
       "    </tr>\n",
       "    <tr>\n",
       "      <th>14</th>\n",
       "      <td>SocioCateg_CSP2</td>\n",
       "      <td>-0.105878</td>\n",
       "      <td>-0.018323</td>\n",
       "    </tr>\n",
       "    <tr>\n",
       "      <th>15</th>\n",
       "      <td>SocioCateg_CSP3</td>\n",
       "      <td>0.083177</td>\n",
       "      <td>0.008488</td>\n",
       "    </tr>\n",
       "    <tr>\n",
       "      <th>16</th>\n",
       "      <td>SocioCateg_CSP4</td>\n",
       "      <td>-0.093999</td>\n",
       "      <td>-0.026331</td>\n",
       "    </tr>\n",
       "    <tr>\n",
       "      <th>17</th>\n",
       "      <td>SocioCateg_CSP5</td>\n",
       "      <td>0.035310</td>\n",
       "      <td>0.016781</td>\n",
       "    </tr>\n",
       "    <tr>\n",
       "      <th>18</th>\n",
       "      <td>SocioCateg_CSP6</td>\n",
       "      <td>0.000000</td>\n",
       "      <td>0.000000</td>\n",
       "    </tr>\n",
       "    <tr>\n",
       "      <th>19</th>\n",
       "      <td>SocioCateg_CSP7</td>\n",
       "      <td>-1.331436</td>\n",
       "      <td>-0.014968</td>\n",
       "    </tr>\n",
       "    <tr>\n",
       "      <th>20</th>\n",
       "      <td>DrivAgeSq</td>\n",
       "      <td>0.000291</td>\n",
       "      <td>0.435502</td>\n",
       "    </tr>\n",
       "  </tbody>\n",
       "</table>\n",
       "</div>"
      ],
      "text/plain": [
       "                              names  coefficients  standardized_coefficients\n",
       "0                         Intercept      7.447459                   6.923914\n",
       "1                            LicAge     -0.000361                  -0.057896\n",
       "2                            Gender     -0.044813                  -0.021696\n",
       "3                          MariStat      0.152243                   0.056025\n",
       "4                           DrivAge     -0.026294                  -0.389649\n",
       "5                        HasKmLimit     -0.086212                  -0.021160\n",
       "6                        BonusMalus     -0.003733                  -0.062010\n",
       "7                          OutUseNb      0.005180                   0.003776\n",
       "8                          RiskArea      0.040690                   0.091382\n",
       "9                  VehUsage_Private      0.044360                   0.020112\n",
       "10  VehUsage_Private+trip to office      0.000000                   0.000000\n",
       "11            VehUsage_Professional     -0.001817                  -0.000670\n",
       "12        VehUsage_Professional run     -0.252844                  -0.039146\n",
       "13                  SocioCateg_CSP1     -0.032338                  -0.005088\n",
       "14                  SocioCateg_CSP2     -0.105878                  -0.018323\n",
       "15                  SocioCateg_CSP3      0.083177                   0.008488\n",
       "16                  SocioCateg_CSP4     -0.093999                  -0.026331\n",
       "17                  SocioCateg_CSP5      0.035310                   0.016781\n",
       "18                  SocioCateg_CSP6      0.000000                   0.000000\n",
       "19                  SocioCateg_CSP7     -1.331436                  -0.014968\n",
       "20                        DrivAgeSq      0.000291                   0.435502"
      ]
     },
     "execution_count": 46,
     "metadata": {},
     "output_type": "execute_result"
    }
   ],
   "source": [
    "# Таблица коэффициентов модели (в зависимости от модели могут выводиться также стандартная ошибка, z-score и p-value)\n",
    "\n",
    "glm_gamma._model_json['output']['coefficients_table'].as_data_frame()"
   ]
  },
  {
   "cell_type": "code",
   "execution_count": 47,
   "metadata": {
    "colab": {
     "base_uri": "https://localhost:8080/",
     "height": 700
    },
    "colab_type": "code",
    "id": "DFa-sS1ME7eq",
    "outputId": "ebc080dc-e172-432b-bb0c-c315daf54e56"
   },
   "outputs": [
    {
     "data": {
      "text/html": [
       "<div>\n",
       "<style scoped>\n",
       "    .dataframe tbody tr th:only-of-type {\n",
       "        vertical-align: middle;\n",
       "    }\n",
       "\n",
       "    .dataframe tbody tr th {\n",
       "        vertical-align: top;\n",
       "    }\n",
       "\n",
       "    .dataframe thead th {\n",
       "        text-align: right;\n",
       "    }\n",
       "</style>\n",
       "<table border=\"1\" class=\"dataframe\">\n",
       "  <thead>\n",
       "    <tr style=\"text-align: right;\">\n",
       "      <th></th>\n",
       "      <th>overall</th>\n",
       "      <th>0</th>\n",
       "      <th>1</th>\n",
       "      <th>2</th>\n",
       "      <th>3</th>\n",
       "      <th>4</th>\n",
       "    </tr>\n",
       "  </thead>\n",
       "  <tbody>\n",
       "    <tr>\n",
       "      <th>Intercept</th>\n",
       "      <td>6.92391</td>\n",
       "      <td>6.91688</td>\n",
       "      <td>6.91143</td>\n",
       "      <td>6.90786</td>\n",
       "      <td>6.94224</td>\n",
       "      <td>6.93571</td>\n",
       "    </tr>\n",
       "    <tr>\n",
       "      <th>LicAge</th>\n",
       "      <td>-0.05790</td>\n",
       "      <td>-0.06541</td>\n",
       "      <td>-0.03483</td>\n",
       "      <td>-0.08694</td>\n",
       "      <td>-0.06251</td>\n",
       "      <td>-0.04576</td>\n",
       "    </tr>\n",
       "    <tr>\n",
       "      <th>Gender</th>\n",
       "      <td>-0.02170</td>\n",
       "      <td>-0.01563</td>\n",
       "      <td>-0.02254</td>\n",
       "      <td>-0.03016</td>\n",
       "      <td>-0.02116</td>\n",
       "      <td>-0.02022</td>\n",
       "    </tr>\n",
       "    <tr>\n",
       "      <th>MariStat</th>\n",
       "      <td>0.05603</td>\n",
       "      <td>0.04597</td>\n",
       "      <td>0.06714</td>\n",
       "      <td>0.02958</td>\n",
       "      <td>0.07026</td>\n",
       "      <td>0.06613</td>\n",
       "    </tr>\n",
       "    <tr>\n",
       "      <th>DrivAge</th>\n",
       "      <td>-0.38965</td>\n",
       "      <td>-0.40844</td>\n",
       "      <td>-0.34948</td>\n",
       "      <td>-0.50771</td>\n",
       "      <td>-0.32551</td>\n",
       "      <td>-0.32130</td>\n",
       "    </tr>\n",
       "    <tr>\n",
       "      <th>HasKmLimit</th>\n",
       "      <td>-0.02116</td>\n",
       "      <td>-0.02464</td>\n",
       "      <td>-0.01840</td>\n",
       "      <td>-0.00704</td>\n",
       "      <td>-0.02722</td>\n",
       "      <td>-0.02636</td>\n",
       "    </tr>\n",
       "    <tr>\n",
       "      <th>BonusMalus</th>\n",
       "      <td>-0.06201</td>\n",
       "      <td>-0.05807</td>\n",
       "      <td>-0.04862</td>\n",
       "      <td>-0.03946</td>\n",
       "      <td>-0.07594</td>\n",
       "      <td>-0.08112</td>\n",
       "    </tr>\n",
       "    <tr>\n",
       "      <th>OutUseNb</th>\n",
       "      <td>0.00378</td>\n",
       "      <td>0.00525</td>\n",
       "      <td>0.00578</td>\n",
       "      <td>0.00194</td>\n",
       "      <td>0.00019</td>\n",
       "      <td>0.00582</td>\n",
       "    </tr>\n",
       "    <tr>\n",
       "      <th>RiskArea</th>\n",
       "      <td>0.09138</td>\n",
       "      <td>0.07477</td>\n",
       "      <td>0.10087</td>\n",
       "      <td>0.08053</td>\n",
       "      <td>0.10077</td>\n",
       "      <td>0.09705</td>\n",
       "    </tr>\n",
       "    <tr>\n",
       "      <th>VehUsage_Private</th>\n",
       "      <td>0.02011</td>\n",
       "      <td>0.00000</td>\n",
       "      <td>0.01143</td>\n",
       "      <td>0.02956</td>\n",
       "      <td>-0.00054</td>\n",
       "      <td>0.03564</td>\n",
       "    </tr>\n",
       "    <tr>\n",
       "      <th>VehUsage_Private+trip to office</th>\n",
       "      <td>0.00000</td>\n",
       "      <td>-0.01524</td>\n",
       "      <td>0.00000</td>\n",
       "      <td>-0.00947</td>\n",
       "      <td>0.00000</td>\n",
       "      <td>0.00000</td>\n",
       "    </tr>\n",
       "    <tr>\n",
       "      <th>VehUsage_Professional</th>\n",
       "      <td>-0.00067</td>\n",
       "      <td>0.01138</td>\n",
       "      <td>-0.03167</td>\n",
       "      <td>0.00000</td>\n",
       "      <td>0.00380</td>\n",
       "      <td>-0.00980</td>\n",
       "    </tr>\n",
       "    <tr>\n",
       "      <th>VehUsage_Professional run</th>\n",
       "      <td>-0.03915</td>\n",
       "      <td>-0.05014</td>\n",
       "      <td>-0.05152</td>\n",
       "      <td>-0.01656</td>\n",
       "      <td>-0.03798</td>\n",
       "      <td>-0.05112</td>\n",
       "    </tr>\n",
       "    <tr>\n",
       "      <th>SocioCateg_CSP1</th>\n",
       "      <td>-0.00509</td>\n",
       "      <td>-0.01861</td>\n",
       "      <td>0.00649</td>\n",
       "      <td>-0.00296</td>\n",
       "      <td>-0.00360</td>\n",
       "      <td>-0.00627</td>\n",
       "    </tr>\n",
       "    <tr>\n",
       "      <th>SocioCateg_CSP2</th>\n",
       "      <td>-0.01832</td>\n",
       "      <td>-0.01938</td>\n",
       "      <td>-0.04482</td>\n",
       "      <td>-0.01671</td>\n",
       "      <td>-0.01816</td>\n",
       "      <td>0.00104</td>\n",
       "    </tr>\n",
       "    <tr>\n",
       "      <th>SocioCateg_CSP3</th>\n",
       "      <td>0.00849</td>\n",
       "      <td>0.00366</td>\n",
       "      <td>0.02182</td>\n",
       "      <td>0.00923</td>\n",
       "      <td>-0.01210</td>\n",
       "      <td>0.01702</td>\n",
       "    </tr>\n",
       "    <tr>\n",
       "      <th>SocioCateg_CSP4</th>\n",
       "      <td>-0.02633</td>\n",
       "      <td>-0.04532</td>\n",
       "      <td>-0.00626</td>\n",
       "      <td>-0.01071</td>\n",
       "      <td>-0.04715</td>\n",
       "      <td>-0.02326</td>\n",
       "    </tr>\n",
       "    <tr>\n",
       "      <th>SocioCateg_CSP5</th>\n",
       "      <td>0.01678</td>\n",
       "      <td>0.01546</td>\n",
       "      <td>0.03020</td>\n",
       "      <td>0.01739</td>\n",
       "      <td>0.00000</td>\n",
       "      <td>0.01727</td>\n",
       "    </tr>\n",
       "    <tr>\n",
       "      <th>SocioCateg_CSP6</th>\n",
       "      <td>0.00000</td>\n",
       "      <td>0.00000</td>\n",
       "      <td>-0.00289</td>\n",
       "      <td>0.00000</td>\n",
       "      <td>0.00534</td>\n",
       "      <td>-0.00202</td>\n",
       "    </tr>\n",
       "    <tr>\n",
       "      <th>SocioCateg_CSP7</th>\n",
       "      <td>-0.01497</td>\n",
       "      <td>-0.01608</td>\n",
       "      <td>-0.01490</td>\n",
       "      <td>-0.01888</td>\n",
       "      <td>-0.01750</td>\n",
       "      <td>0.00000</td>\n",
       "    </tr>\n",
       "    <tr>\n",
       "      <th>DrivAgeSq</th>\n",
       "      <td>0.43550</td>\n",
       "      <td>0.47882</td>\n",
       "      <td>0.40431</td>\n",
       "      <td>0.55432</td>\n",
       "      <td>0.36246</td>\n",
       "      <td>0.34823</td>\n",
       "    </tr>\n",
       "  </tbody>\n",
       "</table>\n",
       "</div>"
      ],
      "text/plain": [
       "                                 overall        0        1        2        3  \\\n",
       "Intercept                        6.92391  6.91688  6.91143  6.90786  6.94224   \n",
       "LicAge                          -0.05790 -0.06541 -0.03483 -0.08694 -0.06251   \n",
       "Gender                          -0.02170 -0.01563 -0.02254 -0.03016 -0.02116   \n",
       "MariStat                         0.05603  0.04597  0.06714  0.02958  0.07026   \n",
       "DrivAge                         -0.38965 -0.40844 -0.34948 -0.50771 -0.32551   \n",
       "HasKmLimit                      -0.02116 -0.02464 -0.01840 -0.00704 -0.02722   \n",
       "BonusMalus                      -0.06201 -0.05807 -0.04862 -0.03946 -0.07594   \n",
       "OutUseNb                         0.00378  0.00525  0.00578  0.00194  0.00019   \n",
       "RiskArea                         0.09138  0.07477  0.10087  0.08053  0.10077   \n",
       "VehUsage_Private                 0.02011  0.00000  0.01143  0.02956 -0.00054   \n",
       "VehUsage_Private+trip to office  0.00000 -0.01524  0.00000 -0.00947  0.00000   \n",
       "VehUsage_Professional           -0.00067  0.01138 -0.03167  0.00000  0.00380   \n",
       "VehUsage_Professional run       -0.03915 -0.05014 -0.05152 -0.01656 -0.03798   \n",
       "SocioCateg_CSP1                 -0.00509 -0.01861  0.00649 -0.00296 -0.00360   \n",
       "SocioCateg_CSP2                 -0.01832 -0.01938 -0.04482 -0.01671 -0.01816   \n",
       "SocioCateg_CSP3                  0.00849  0.00366  0.02182  0.00923 -0.01210   \n",
       "SocioCateg_CSP4                 -0.02633 -0.04532 -0.00626 -0.01071 -0.04715   \n",
       "SocioCateg_CSP5                  0.01678  0.01546  0.03020  0.01739  0.00000   \n",
       "SocioCateg_CSP6                  0.00000  0.00000 -0.00289  0.00000  0.00534   \n",
       "SocioCateg_CSP7                 -0.01497 -0.01608 -0.01490 -0.01888 -0.01750   \n",
       "DrivAgeSq                        0.43550  0.47882  0.40431  0.55432  0.36246   \n",
       "\n",
       "                                       4  \n",
       "Intercept                        6.93571  \n",
       "LicAge                          -0.04576  \n",
       "Gender                          -0.02022  \n",
       "MariStat                         0.06613  \n",
       "DrivAge                         -0.32130  \n",
       "HasKmLimit                      -0.02636  \n",
       "BonusMalus                      -0.08112  \n",
       "OutUseNb                         0.00582  \n",
       "RiskArea                         0.09705  \n",
       "VehUsage_Private                 0.03564  \n",
       "VehUsage_Private+trip to office  0.00000  \n",
       "VehUsage_Professional           -0.00980  \n",
       "VehUsage_Professional run       -0.05112  \n",
       "SocioCateg_CSP1                 -0.00627  \n",
       "SocioCateg_CSP2                  0.00104  \n",
       "SocioCateg_CSP3                  0.01702  \n",
       "SocioCateg_CSP4                 -0.02326  \n",
       "SocioCateg_CSP5                  0.01727  \n",
       "SocioCateg_CSP6                 -0.00202  \n",
       "SocioCateg_CSP7                  0.00000  \n",
       "DrivAgeSq                        0.34823  "
      ]
     },
     "execution_count": 47,
     "metadata": {},
     "output_type": "execute_result"
    }
   ],
   "source": [
    "# Таблица нормированных коэффициентов по всем данным и на кросс-валидации\n",
    "\n",
    "pmodels = {}\n",
    "pmodels['overall'] = glm_gamma.coef_norm()\n",
    "for x in range(len(glm_gamma.cross_validation_models())):\n",
    "    pmodels[x] = glm_gamma.cross_validation_models()[x].coef_norm()\n",
    "pd.DataFrame.from_dict(pmodels).round(5)"
   ]
  },
  {
   "cell_type": "code",
   "execution_count": 48,
   "metadata": {
    "colab": {
     "base_uri": "https://localhost:8080/",
     "height": 68
    },
    "colab_type": "code",
    "id": "CoBse4X5_no7",
    "outputId": "1a926a97-4034-47f5-ea0a-3d0a7440456c"
   },
   "outputs": [
    {
     "name": "stdout",
     "output_type": "stream",
     "text": [
      "glm prediction progress: |████████████████████████████████████████████████| 100%\n",
      "glm prediction progress: |████████████████████████████████████████████████| 100%\n",
      "glm prediction progress: |████████████████████████████████████████████████| 100%\n"
     ]
    }
   ],
   "source": [
    "# Построение прогнозных значений для обучающей, валидационной и тестовой выборок\n",
    "\n",
    "ac_train_pred = glm_gamma.predict(h2o_train_ac).as_data_frame()\n",
    "ac_valid_pred = glm_gamma.predict(h2o_valid_ac).as_data_frame()\n",
    "ac_test_pred = glm_gamma.predict(h2o_test_ac).as_data_frame()"
   ]
  },
  {
   "cell_type": "code",
   "execution_count": 49,
   "metadata": {
    "colab": {},
    "colab_type": "code",
    "id": "3Brr0O0zUKKW"
   },
   "outputs": [],
   "source": [
    "# Сохранение обученной модели\n",
    "\n",
    "model_glm_gamma = h2o.save_model(model=glm_gamma, path=path, force=True)"
   ]
  },
  {
   "cell_type": "code",
   "execution_count": 50,
   "metadata": {
    "colab": {
     "base_uri": "https://localhost:8080/",
     "height": 34
    },
    "colab_type": "code",
    "id": "VouX3Z7FUKIN",
    "outputId": "44e97810-21c7-420f-93a9-980e240422ad"
   },
   "outputs": [
    {
     "data": {
      "text/plain": [
       "'C:\\\\Users\\\\user\\\\Documents\\\\mydocs\\\\gb_timeseries\\\\insurance\\\\data\\\\GLM_model_python_1590838893368_2'"
      ]
     },
     "execution_count": 50,
     "metadata": {},
     "output_type": "execute_result"
    }
   ],
   "source": [
    "model_glm_gamma"
   ]
  },
  {
   "cell_type": "markdown",
   "metadata": {
    "colab_type": "text",
    "id": "A84l-r2aIxfK"
   },
   "source": [
    "### Использование GLM моделей"
   ]
  },
  {
   "cell_type": "code",
   "execution_count": 51,
   "metadata": {
    "colab": {
     "base_uri": "https://localhost:8080/",
     "height": 34
    },
    "colab_type": "code",
    "id": "-bkMpTD6Gcra",
    "outputId": "858d027e-9320-48ef-e1fd-a2c33102ee00"
   },
   "outputs": [
    {
     "name": "stdout",
     "output_type": "stream",
     "text": [
      "Parse progress: |█████████████████████████████████████████████████████████| 100%\n"
     ]
    }
   ],
   "source": [
    "h2o_df = h2o.H2OFrame(df)"
   ]
  },
  {
   "cell_type": "code",
   "execution_count": 52,
   "metadata": {
    "colab": {
     "base_uri": "https://localhost:8080/",
     "height": 51
    },
    "colab_type": "code",
    "id": "meqzcQNpI6JJ",
    "outputId": "aafc2f3f-2731-4b9e-c62a-3dd41adc492d"
   },
   "outputs": [
    {
     "name": "stdout",
     "output_type": "stream",
     "text": [
      "glm prediction progress: |████████████████████████████████████████████████| 100%\n",
      "glm prediction progress: |████████████████████████████████████████████████| 100%\n"
     ]
    }
   ],
   "source": [
    "df['CountPredicted'] = glm_poisson.predict(h2o_df).as_data_frame()\n",
    "df['AvgClaimPredicted'] = glm_gamma.predict(h2o_df).as_data_frame()"
   ]
  },
  {
   "cell_type": "code",
   "execution_count": 53,
   "metadata": {
    "colab": {
     "base_uri": "https://localhost:8080/",
     "height": 204
    },
    "colab_type": "code",
    "id": "gjK52WywJdHk",
    "outputId": "33f9f048-8016-42ec-daa8-befb184882f6"
   },
   "outputs": [
    {
     "data": {
      "text/html": [
       "<div>\n",
       "<style scoped>\n",
       "    .dataframe tbody tr th:only-of-type {\n",
       "        vertical-align: middle;\n",
       "    }\n",
       "\n",
       "    .dataframe tbody tr th {\n",
       "        vertical-align: top;\n",
       "    }\n",
       "\n",
       "    .dataframe thead th {\n",
       "        text-align: right;\n",
       "    }\n",
       "</style>\n",
       "<table border=\"1\" class=\"dataframe\">\n",
       "  <thead>\n",
       "    <tr style=\"text-align: right;\">\n",
       "      <th></th>\n",
       "      <th>CountPredicted</th>\n",
       "      <th>AvgClaimPredicted</th>\n",
       "      <th>BurningCost</th>\n",
       "    </tr>\n",
       "  </thead>\n",
       "  <tbody>\n",
       "    <tr>\n",
       "      <th>0</th>\n",
       "      <td>0.365203</td>\n",
       "      <td>1040.884165</td>\n",
       "      <td>380.134137</td>\n",
       "    </tr>\n",
       "    <tr>\n",
       "      <th>1</th>\n",
       "      <td>0.365274</td>\n",
       "      <td>1040.508282</td>\n",
       "      <td>380.070571</td>\n",
       "    </tr>\n",
       "    <tr>\n",
       "      <th>2</th>\n",
       "      <td>0.321158</td>\n",
       "      <td>1000.561543</td>\n",
       "      <td>321.338065</td>\n",
       "    </tr>\n",
       "    <tr>\n",
       "      <th>3</th>\n",
       "      <td>0.264449</td>\n",
       "      <td>959.301700</td>\n",
       "      <td>253.686352</td>\n",
       "    </tr>\n",
       "    <tr>\n",
       "      <th>4</th>\n",
       "      <td>0.233909</td>\n",
       "      <td>976.884554</td>\n",
       "      <td>228.501760</td>\n",
       "    </tr>\n",
       "  </tbody>\n",
       "</table>\n",
       "</div>"
      ],
      "text/plain": [
       "   CountPredicted  AvgClaimPredicted  BurningCost\n",
       "0        0.365203        1040.884165   380.134137\n",
       "1        0.365274        1040.508282   380.070571\n",
       "2        0.321158        1000.561543   321.338065\n",
       "3        0.264449         959.301700   253.686352\n",
       "4        0.233909         976.884554   228.501760"
      ]
     },
     "execution_count": 53,
     "metadata": {},
     "output_type": "execute_result"
    }
   ],
   "source": [
    "#умножаем прогноз частоты убытка на прогноз средней величины убытка, получаем прогноз размера убытка  - burning cost \n",
    "\n",
    "df['BurningCost'] = df.CountPredicted * df.AvgClaimPredicted\n",
    "df[['CountPredicted', 'AvgClaimPredicted', 'BurningCost']].head()"
   ]
  },
  {
   "cell_type": "code",
   "execution_count": null,
   "metadata": {},
   "outputs": [],
   "source": []
  },
  {
   "cell_type": "code",
   "execution_count": null,
   "metadata": {},
   "outputs": [],
   "source": []
  },
  {
   "cell_type": "markdown",
   "metadata": {
    "colab_type": "text",
    "id": "Xljx8j0-_jXR"
   },
   "source": [
    "## * Домашнее задание: GLM для прогнозирования наступления страхового случая"
   ]
  },
  {
   "cell_type": "code",
   "execution_count": null,
   "metadata": {},
   "outputs": [],
   "source": [
    "#прогноз факта наступления страхового случая \n",
    "#подобрать распределение "
   ]
  },
  {
   "cell_type": "code",
   "execution_count": 0,
   "metadata": {
    "colab": {},
    "colab_type": "code",
    "id": "EgD9hvYAIury"
   },
   "outputs": [],
   "source": [
    "# Разбиение датасета на train/val/test\n",
    "\n",
    "x_train_ind, x_test_ind, y_train_ind, y_test_ind = train_test_split(df.drop(['ClaimInd', 'ClaimAmount', 'ClaimsCount', 'CountPredicted', 'AvgClaimPredicted', 'BurningCost'], axis=1), df.ClaimInd, test_size=0.3, random_state=1)\n",
    "x_valid_ind, x_test_ind, y_valid_ind, y_test_ind = train_test_split(x_test_ind, y_test_ind, test_size=0.5, random_state=1)"
   ]
  },
  {
   "cell_type": "code",
   "execution_count": 0,
   "metadata": {
    "colab": {
     "base_uri": "https://localhost:8080/",
     "height": 34
    },
    "colab_type": "code",
    "id": "Bt_i4clofGFR",
    "outputId": "ef53fd1b-f5e2-448c-d9be-00076fd31a0c"
   },
   "outputs": [
    {
     "data": {
      "text/plain": [
       "'<Ваш код здесь>'"
      ]
     },
     "execution_count": 50,
     "metadata": {
      "tags": []
     },
     "output_type": "execute_result"
    }
   ],
   "source": [
    "# Преобразование в H2O-Frame\n",
    "\n",
    "'<Ваш код здесь>'"
   ]
  },
  {
   "cell_type": "code",
   "execution_count": 0,
   "metadata": {
    "colab": {
     "base_uri": "https://localhost:8080/",
     "height": 34
    },
    "colab_type": "code",
    "id": "5ETBVckIjIRC",
    "outputId": "1d3be74e-5e44-4466-d358-e79b0ed31a48"
   },
   "outputs": [
    {
     "data": {
      "text/plain": [
       "'<Ваш код здесь>'"
      ]
     },
     "execution_count": 51,
     "metadata": {
      "tags": []
     },
     "output_type": "execute_result"
    }
   ],
   "source": [
    "# Преобразуем целевую переменную ClaimInd в категориальную при помощи метода asfactor во всех наборах данных\n",
    "\n",
    "'<Ваш код здесь>'"
   ]
  },
  {
   "cell_type": "code",
   "execution_count": 0,
   "metadata": {
    "colab": {
     "base_uri": "https://localhost:8080/",
     "height": 34
    },
    "colab_type": "code",
    "id": "xoT7OG9ljwKY",
    "outputId": "b4a44b3d-a893-4608-90dc-7bff2244498b"
   },
   "outputs": [
    {
     "data": {
      "text/plain": [
       "'<Ваш код здесь>'"
      ]
     },
     "execution_count": 52,
     "metadata": {
      "tags": []
     },
     "output_type": "execute_result"
    }
   ],
   "source": [
    "# Инициализируем и обучим GLM модель c кросс-валидацией\n",
    "\n",
    "'<Ваш код здесь>'"
   ]
  },
  {
   "cell_type": "code",
   "execution_count": 0,
   "metadata": {
    "colab": {
     "base_uri": "https://localhost:8080/",
     "height": 34
    },
    "colab_type": "code",
    "id": "WXbmbcSDoOXs",
    "outputId": "563f2917-855d-42d8-bc63-4fb823a43c46"
   },
   "outputs": [
    {
     "data": {
      "text/plain": [
       "'<Ваш код здесь>'"
      ]
     },
     "execution_count": 53,
     "metadata": {
      "tags": []
     },
     "output_type": "execute_result"
    }
   ],
   "source": [
    "# Параметры модели: распределение, функция связи, гиперпараметры регуляризации, количество использованных объясняющих переменных\n",
    "\n",
    "'<Ваш код здесь>'"
   ]
  },
  {
   "cell_type": "code",
   "execution_count": 0,
   "metadata": {
    "colab": {
     "base_uri": "https://localhost:8080/",
     "height": 34
    },
    "colab_type": "code",
    "id": "mUvoWpAkoRir",
    "outputId": "462edf0f-6bfb-4ad6-a44c-ca05ac90bdf9"
   },
   "outputs": [
    {
     "data": {
      "text/plain": [
       "'<Ваш код здесь>'"
      ]
     },
     "execution_count": 54,
     "metadata": {
      "tags": []
     },
     "output_type": "execute_result"
    }
   ],
   "source": [
    "# Метрики качества модели - по всем данным и на кросс-валидации\n",
    "\n",
    "'<Ваш код здесь>'"
   ]
  },
  {
   "cell_type": "code",
   "execution_count": 0,
   "metadata": {
    "colab": {
     "base_uri": "https://localhost:8080/",
     "height": 34
    },
    "colab_type": "code",
    "id": "D8USRdSmoYy_",
    "outputId": "e70e1fa6-bbc3-4471-fbc9-8b24bef78271"
   },
   "outputs": [
    {
     "data": {
      "text/plain": [
       "'<Ваш код здесь>'"
      ]
     },
     "execution_count": 55,
     "metadata": {
      "tags": []
     },
     "output_type": "execute_result"
    }
   ],
   "source": [
    "# Таблица коэффициентов модели (в зависимости от модели могут выводиться также стандартная ошибка, z-score и p-value)\n",
    "\n",
    "'<Ваш код здесь>'"
   ]
  },
  {
   "cell_type": "code",
   "execution_count": 0,
   "metadata": {
    "colab": {
     "base_uri": "https://localhost:8080/",
     "height": 34
    },
    "colab_type": "code",
    "id": "KZ_XqTchoiYX",
    "outputId": "e80814f6-a6e0-473c-f1f4-46c1071b2e6e"
   },
   "outputs": [
    {
     "data": {
      "text/plain": [
       "'<Ваш код здесь>'"
      ]
     },
     "execution_count": 56,
     "metadata": {
      "tags": []
     },
     "output_type": "execute_result"
    }
   ],
   "source": [
    "# Таблица нормированных коэффициентов по всем данным и на кросс-валидации\n",
    "\n",
    "'<Ваш код здесь>'"
   ]
  },
  {
   "cell_type": "code",
   "execution_count": 0,
   "metadata": {
    "colab": {
     "base_uri": "https://localhost:8080/",
     "height": 34
    },
    "colab_type": "code",
    "id": "T9I59UXGpYlh",
    "outputId": "df1f289c-4059-492e-da42-55d08fbb3fdf"
   },
   "outputs": [
    {
     "data": {
      "text/plain": [
       "'<Ваш код здесь>'"
      ]
     },
     "execution_count": 57,
     "metadata": {
      "tags": []
     },
     "output_type": "execute_result"
    }
   ],
   "source": [
    "# Построение прогнозных значений для обучающей, валидационной и тестовой выборок\n",
    "\n",
    "'<Ваш код здесь>'"
   ]
  },
  {
   "cell_type": "code",
   "execution_count": 0,
   "metadata": {
    "colab": {},
    "colab_type": "code",
    "id": "g00U1gQBp_Wq"
   },
   "outputs": [],
   "source": [
    "from sklearn.metrics import accuracy_score, f1_score, confusion_matrix"
   ]
  },
  {
   "cell_type": "code",
   "execution_count": 0,
   "metadata": {
    "colab": {
     "base_uri": "https://localhost:8080/",
     "height": 34
    },
    "colab_type": "code",
    "id": "oVwiMaWlqRCz",
    "outputId": "1a1e3b44-ff42-4a04-924d-608d65ef2958"
   },
   "outputs": [
    {
     "data": {
      "text/plain": [
       "'<Ваш код здесь>'"
      ]
     },
     "execution_count": 59,
     "metadata": {
      "tags": []
     },
     "output_type": "execute_result"
    }
   ],
   "source": [
    "# Выведем импортированные выше метрики классификации для обучающей, валидационной и тестовой выборок\n",
    "\n",
    "'<Ваш код здесь>'"
   ]
  },
  {
   "cell_type": "markdown",
   "metadata": {
    "colab_type": "text",
    "id": "2TNOSiKDs-U6"
   },
   "source": [
    "Какие проблемы вы здесь видите? Как можно улучшить данный результат?"
   ]
  }
 ],
 "metadata": {
  "colab": {
   "collapsed_sections": [
    "Xljx8j0-_jXR"
   ],
   "name": "GB Lesson 2.ipynb",
   "provenance": []
  },
  "kernelspec": {
   "display_name": "Python 3",
   "language": "python",
   "name": "python3"
  },
  "language_info": {
   "codemirror_mode": {
    "name": "ipython",
    "version": 3
   },
   "file_extension": ".py",
   "mimetype": "text/x-python",
   "name": "python",
   "nbconvert_exporter": "python",
   "pygments_lexer": "ipython3",
   "version": "3.7.6"
  }
 },
 "nbformat": 4,
 "nbformat_minor": 1
}
